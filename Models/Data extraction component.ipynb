{
 "cells": [
  {
   "cell_type": "code",
   "execution_count": null,
   "metadata": {
    "colab": {
     "base_uri": "https://localhost:8080/"
    },
    "executionInfo": {
     "elapsed": 27101,
     "status": "ok",
     "timestamp": 1718469702468,
     "user": {
      "displayName": "K.Ishani",
      "userId": "03791568905300336534"
     },
     "user_tz": -330
    },
    "id": "Vdx0A18yroA2",
    "outputId": "77f30db4-515d-4cea-e069-7a9c6f46d023"
   },
   "outputs": [
    {
     "name": "stdout",
     "output_type": "stream",
     "text": [
      "Mounted at /content/drive\n"
     ]
    }
   ],
   "source": [
    "#gdrive\n",
    "from google.colab import drive\n",
    "drive.mount('/content/drive')"
   ]
  },
  {
   "cell_type": "markdown",
   "metadata": {
    "id": "AKdCLcGVrfbZ"
   },
   "source": [
    "## Imports"
   ]
  },
  {
   "cell_type": "code",
   "execution_count": null,
   "metadata": {
    "colab": {
     "base_uri": "https://localhost:8080/"
    },
    "collapsed": true,
    "executionInfo": {
     "elapsed": 10510,
     "status": "ok",
     "timestamp": 1718469716795,
     "user": {
      "displayName": "K.Ishani",
      "userId": "03791568905300336534"
     },
     "user_tz": -330
    },
    "id": "JwywxkbzrzDc",
    "outputId": "f31a4801-f529-4640-f925-e718765ac4d3"
   },
   "outputs": [
    {
     "name": "stdout",
     "output_type": "stream",
     "text": [
      "Requirement already satisfied: requests in /usr/local/lib/python3.10/dist-packages (2.31.0)\n",
      "Requirement already satisfied: charset-normalizer<4,>=2 in /usr/local/lib/python3.10/dist-packages (from requests) (3.3.2)\n",
      "Requirement already satisfied: idna<4,>=2.5 in /usr/local/lib/python3.10/dist-packages (from requests) (3.7)\n",
      "Requirement already satisfied: urllib3<3,>=1.21.1 in /usr/local/lib/python3.10/dist-packages (from requests) (2.0.7)\n",
      "Requirement already satisfied: certifi>=2017.4.17 in /usr/local/lib/python3.10/dist-packages (from requests) (2024.6.2)\n"
     ]
    }
   ],
   "source": [
    "!pip install requests"
   ]
  },
  {
   "cell_type": "code",
   "execution_count": null,
   "metadata": {
    "colab": {
     "base_uri": "https://localhost:8080/"
    },
    "collapsed": true,
    "executionInfo": {
     "elapsed": 12855,
     "status": "ok",
     "timestamp": 1718469729647,
     "user": {
      "displayName": "K.Ishani",
      "userId": "03791568905300336534"
     },
     "user_tz": -330
    },
    "id": "SyOF05DG0eBU",
    "outputId": "0105c87d-aff6-4ff9-ab26-d432e459fe52"
   },
   "outputs": [
    {
     "name": "stdout",
     "output_type": "stream",
     "text": [
      "Requirement already satisfied: seaborn in /usr/local/lib/python3.10/dist-packages (0.13.1)\n",
      "Requirement already satisfied: numpy!=1.24.0,>=1.20 in /usr/local/lib/python3.10/dist-packages (from seaborn) (1.25.2)\n",
      "Requirement already satisfied: pandas>=1.2 in /usr/local/lib/python3.10/dist-packages (from seaborn) (2.0.3)\n",
      "Requirement already satisfied: matplotlib!=3.6.1,>=3.4 in /usr/local/lib/python3.10/dist-packages (from seaborn) (3.7.1)\n",
      "Requirement already satisfied: contourpy>=1.0.1 in /usr/local/lib/python3.10/dist-packages (from matplotlib!=3.6.1,>=3.4->seaborn) (1.2.1)\n",
      "Requirement already satisfied: cycler>=0.10 in /usr/local/lib/python3.10/dist-packages (from matplotlib!=3.6.1,>=3.4->seaborn) (0.12.1)\n",
      "Requirement already satisfied: fonttools>=4.22.0 in /usr/local/lib/python3.10/dist-packages (from matplotlib!=3.6.1,>=3.4->seaborn) (4.53.0)\n",
      "Requirement already satisfied: kiwisolver>=1.0.1 in /usr/local/lib/python3.10/dist-packages (from matplotlib!=3.6.1,>=3.4->seaborn) (1.4.5)\n",
      "Requirement already satisfied: packaging>=20.0 in /usr/local/lib/python3.10/dist-packages (from matplotlib!=3.6.1,>=3.4->seaborn) (24.1)\n",
      "Requirement already satisfied: pillow>=6.2.0 in /usr/local/lib/python3.10/dist-packages (from matplotlib!=3.6.1,>=3.4->seaborn) (9.4.0)\n",
      "Requirement already satisfied: pyparsing>=2.3.1 in /usr/local/lib/python3.10/dist-packages (from matplotlib!=3.6.1,>=3.4->seaborn) (3.1.2)\n",
      "Requirement already satisfied: python-dateutil>=2.7 in /usr/local/lib/python3.10/dist-packages (from matplotlib!=3.6.1,>=3.4->seaborn) (2.8.2)\n",
      "Requirement already satisfied: pytz>=2020.1 in /usr/local/lib/python3.10/dist-packages (from pandas>=1.2->seaborn) (2023.4)\n",
      "Requirement already satisfied: tzdata>=2022.1 in /usr/local/lib/python3.10/dist-packages (from pandas>=1.2->seaborn) (2024.1)\n",
      "Requirement already satisfied: six>=1.5 in /usr/local/lib/python3.10/dist-packages (from python-dateutil>=2.7->matplotlib!=3.6.1,>=3.4->seaborn) (1.16.0)\n"
     ]
    }
   ],
   "source": [
    "!pip install seaborn"
   ]
  },
  {
   "cell_type": "code",
   "execution_count": null,
   "metadata": {
    "id": "3PliUsg9q1Zs"
   },
   "outputs": [],
   "source": [
    "#imports\n",
    "import requests\n",
    "import json\n",
    "import pandas as pd\n",
    "import matplotlib.pyplot as plt\n",
    "import seaborn as sns"
   ]
  },
  {
   "cell_type": "markdown",
   "metadata": {
    "id": "0vflIQ7Df_Zo"
   },
   "source": [
    "## Load"
   ]
  },
  {
   "cell_type": "markdown",
   "metadata": {
    "id": "d22wRroWrma3"
   },
   "source": [
    "File id = File identifies it\n",
    "Access token = to authenticate with figma api"
   ]
  },
  {
   "cell_type": "code",
   "execution_count": null,
   "metadata": {
    "id": "_LUvBmsKrl0q"
   },
   "outputs": [],
   "source": [
    "def get_figma_data(file_id, access_token):\n",
    "  \"\"\"\n",
    "  A method to import figma data\n",
    "\n",
    "  Parameters\n",
    "  file_id = File id to identify the figma component file\n",
    "  access_token = to authenticate with figma api\n",
    "  \"\"\"\n",
    "  #url for figma file\n",
    "  url= f\"https://api.figma.com/v1/files/{file_id}\"\n",
    "  #setting up headers for http requests\n",
    "  headers={\"X-Figma-token\":access_token}\n",
    "  #http GET request to figma api to get file data\n",
    "  response = requests.get(url,headers=headers)\n",
    "  return response.json()"
   ]
  },
  {
   "cell_type": "code",
   "execution_count": null,
   "metadata": {
    "id": "aW_rWoARs26P"
   },
   "outputs": [],
   "source": [
    "#figma file id\n",
    "file_id= \"<INSERT FILE ID>\""
   ]
  },
  {
   "cell_type": "code",
   "execution_count": null,
   "metadata": {
    "id": "qTH0HB6yHpXn"
   },
   "outputs": [],
   "source": [
    "#figma access token\n",
    "access_token= \"<INSERT ACCESS TOKEN>\""
   ]
  },
  {
   "cell_type": "code",
   "execution_count": null,
   "metadata": {
    "id": "7QX_mJzfHrKk"
   },
   "outputs": [],
   "source": [
    "figma_data= get_figma_data(file_id, access_token)"
   ]
  },
  {
   "cell_type": "code",
   "execution_count": null,
   "metadata": {
    "id": "rKsCyw_EHsbl"
   },
   "outputs": [],
   "source": [
    "#print(file_data)"
   ]
  },
  {
   "cell_type": "markdown",
   "metadata": {
    "id": "ujo11AqBtHHS"
   },
   "source": [
    "## Check save data"
   ]
  },
  {
   "cell_type": "code",
   "execution_count": null,
   "metadata": {
    "id": "xGAEnn4kut_I"
   },
   "outputs": [],
   "source": [
    "# print(json.dumps(figma_data, indent=2))"
   ]
  },
  {
   "cell_type": "code",
   "execution_count": null,
   "metadata": {
    "id": "i8xiw6xStI4R"
   },
   "outputs": [],
   "source": [
    "def variant_count(figma_data):\n",
    "  \"\"\"\n",
    "  A method to see number of component variants count\n",
    "\n",
    "  Parameters\n",
    "  file_data = data extracted from figma\n",
    "  \"\"\"\n",
    "  #initialise the count\n",
    "  variant_count = 0\n",
    "  #function to count variants\n",
    "  def count_variants(node_data):\n",
    "    nonlocal variant_count\n",
    "    #check if layer = component set\n",
    "    if node_data.get(\"type\") == \"COMPONENT_SET\":\n",
    "      #count the number of children\n",
    "      variant_count += len(node_data.get(\"children\", []))\n",
    "    for child in node_data.get(\"children\", []):\n",
    "      count_variants(child)\n",
    "  count_variants(figma_data.get(\"document\"))\n",
    "  return variant_count"
   ]
  },
  {
   "cell_type": "code",
   "execution_count": null,
   "metadata": {
    "id": "bbmc1rDl_s0H"
   },
   "outputs": [],
   "source": [
    "# #testing\n",
    "# variants_count = variant_count(figma_data)\n",
    "# print(f\"Total component variants: {variants_count}\")"
   ]
  },
  {
   "cell_type": "code",
   "execution_count": null,
   "metadata": {
    "id": "vTAXLJf-tshi"
   },
   "outputs": [],
   "source": [
    "def save_figma_data(figma_data, saved_path):\n",
    "  \"\"\"\n",
    "  A method to save figma data in a file\n",
    "\n",
    "  Parameters\n",
    "  figma_data = data extracted from figma\n",
    "  saved_path = path to save the data\n",
    "  \"\"\"\n",
    "  with open(saved_path, 'w') as f:\n",
    "    f.write(json.dumps(figma_data, indent=4))"
   ]
  },
  {
   "cell_type": "code",
   "execution_count": null,
   "metadata": {
    "id": "s3AIPLBUty6i"
   },
   "outputs": [],
   "source": [
    "#path to save data\n",
    "data_path = '/content/drive/My Drive/Implementation/Final Thesis/FYP/extracted_figma_data.json'"
   ]
  },
  {
   "cell_type": "code",
   "execution_count": null,
   "metadata": {
    "id": "PfUxpnewt22t"
   },
   "outputs": [],
   "source": [
    "save_figma_data(figma_data, data_path)"
   ]
  },
  {
   "cell_type": "code",
   "execution_count": null,
   "metadata": {
    "id": "lgwyIqEOulhJ"
   },
   "outputs": [],
   "source": [
    "def extract_componentset_name(node_name):\n",
    "  \"\"\"\n",
    "  A method to extract the component set name\n",
    "\n",
    "  Parameters\n",
    "  node_name = name of the component set node\n",
    "  \"\"\"\n",
    "  naming_parts = node_name.split('/')\n",
    "  #no of parts in the naming is 3\n",
    "  if len(naming_parts) == 3:\n",
    "    #naming types\n",
    "    style, component_name, subtype = naming_parts\n",
    "  else:\n",
    "    #default names if not found\n",
    "    style, component_name, subtype = 'Unknown', 'Unknown', 'Unknown'\n",
    "  return style.strip(), component_name.strip(), subtype.strip()"
   ]
  },
  {
   "cell_type": "code",
   "execution_count": null,
   "metadata": {
    "id": "SXUOuwPGzQz5"
   },
   "outputs": [],
   "source": [
    "def extract_variant_name(variant_name):\n",
    "  \"\"\"\n",
    "  A method to extract the variant name key value pairs\n",
    "\n",
    "  Parameters\n",
    "  variant_name = name of the variant node\n",
    "  \"\"\"\n",
    "  variant_details = {}\n",
    "  #split the variant name\n",
    "  key_value_pairs = variant_name.split(',')\n",
    "  for pair in key_value_pairs:\n",
    "\n",
    "    #define teh key value pairs and split\n",
    "    key, value = pair.split('=') if '=' in pair else ('Unknown', 'Unknown')\n",
    "\n",
    "    #get the key\n",
    "    key = key.strip()\n",
    "\n",
    "    #get the value\n",
    "    value = value.strip()\n",
    "    if key not in variant_details:\n",
    "      variant_details[key] = [value]\n",
    "    else:\n",
    "      variant_details[key].append(value)\n",
    "  return variant_details if variant_details else {'state': ['default']}"
   ]
  },
  {
   "cell_type": "markdown",
   "metadata": {
    "id": "BhMMEDgshQYp"
   },
   "source": []
  },
  {
   "cell_type": "markdown",
   "metadata": {
    "id": "x_3teQnCXfAZ"
   },
   "source": [
    "## Simple json extraction"
   ]
  },
  {
   "cell_type": "code",
   "execution_count": null,
   "metadata": {
    "id": "01EiCdTeXhpO"
   },
   "outputs": [],
   "source": [
    "def extract_simple_properties(node):\n",
    "  \"\"\"\n",
    "  A method to extract the simple properties of the component variants\n",
    "\n",
    "  Parameters\n",
    "  node = node to extract the properties from\n",
    "  \"\"\"\n",
    "  properties = {\n",
    "    'color': [],\n",
    "    'strokes': [],\n",
    "    'strokeWeight': 0,\n",
    "    'text': [],\n",
    "    'textColor': [],\n",
    "    'borderRadius': [],\n",
    "    'fontFamily': [],\n",
    "    'fontWeight': [],\n",
    "    'fontSize': [],\n",
    "    'effects': [],\n",
    "    'padding': 0,\n",
    "    'width': 0,\n",
    "    'height': 0,\n",
    "    'x': 0,\n",
    "    'y': 0,\n",
    "    'hasIcon': False\n",
    "  }\n",
    "  simple_property_extraction(node, properties)\n",
    "  return properties"
   ]
  },
  {
   "cell_type": "code",
   "execution_count": null,
   "metadata": {
    "id": "EImVGU8-ZIis"
   },
   "outputs": [],
   "source": [
    "def simple_property_extraction(node, properties):\n",
    "  \"\"\"\n",
    "  A method to extract the properties of the component variants\n",
    "\n",
    "  Parameters\n",
    "  node = node to extract the properties from\n",
    "  properties = dictionary to store the properties\n",
    "  \"\"\"\n",
    "  #colors\n",
    "  fills = node.get('fills', [])\n",
    "  for fill in fills:\n",
    "    if fill['type'] == 'SOLID':\n",
    "      color = fill['color']\n",
    "      rgba = f\"rgba({int(color['r'] * 255)}, {int(color['g'] * 255)}, {int(color['b'] * 255)}, {color['a']})\"\n",
    "      properties['color'] = rgba\n",
    "\n",
    "  #corner radius\n",
    "  if 'cornerRadius' in node:\n",
    "    properties['borderRadius'] = node['cornerRadius']\n",
    "\n",
    "  #text properties\n",
    "  if node['type'] == 'TEXT':\n",
    "    properties['text'] = node.get('characters', '')\n",
    "    textStyle = node.get('style', {})\n",
    "    properties['fontFamily'] = textStyle.get('fontFamily', '')\n",
    "    properties['fontWeight'] = textStyle.get('fontWeight', '')\n",
    "    properties['fontSize'] = textStyle.get('fontSize', 0)\n",
    "    textFills = node.get('fills', [])\n",
    "    for fill in textFills:\n",
    "      if fill['type'] == 'SOLID':\n",
    "        color = fill['color']\n",
    "        rgba = f\"rgba({int(color['r'] * 255)}, {int(color['g'] * 255)}, {int(color['b'] * 255)}, {color['a']})\"\n",
    "        properties['textColor'] = rgba\n",
    "\n",
    "  #dimensions\n",
    "  if 'absoluteBoundingBox' in node:\n",
    "    boundingBox = node['absoluteBoundingBox']\n",
    "    properties['width'] = boundingBox['width']\n",
    "    properties['height'] = boundingBox['height']\n",
    "    properties['x'] = boundingBox['x']\n",
    "    properties['y'] = boundingBox['y']\n",
    "\n",
    "  #strokes\n",
    "  strokes = node.get('strokes', [])\n",
    "  for stroke in strokes:\n",
    "    if stroke['type'] == 'SOLID':\n",
    "      color = stroke['color']\n",
    "      rgba = f\"rgba({int(color['r'] * 255)}, {int(color['g'] * 255)}, {int(color['b'] * 255)}, {color['a']})\"\n",
    "      properties['strokes'].append(rgba)\n",
    "  strokeWeight = node.get('strokeWeight', 0)\n",
    "  properties['strokeWeight'] = strokeWeight\n",
    "\n",
    "  #effects\n",
    "  effects = node.get('effects', [])\n",
    "  for effect in effects:\n",
    "    color = effect.get('color', {})\n",
    "    rgba = f\"rgba({int(color.get('r', 0) * 255)}, {int(color.get('g', 0) * 255)}, {int(color.get('b', 0) * 255)}, {color.get('a', 1)})\"\n",
    "    properties['effects'].append({'type': effect['type'], 'color': rgba})\n",
    "\n",
    "  #padding\n",
    "  if 'padding' in node:\n",
    "    properties['padding'] = node['padding']\n",
    "\n",
    "  #icon presence\n",
    "  if node['type'] == 'VECTOR':\n",
    "    properties['hasIcon'] = True\n",
    "\n",
    "  #go through child nodes\n",
    "  if 'children' in node:\n",
    "    for child in node['children']:\n",
    "      simple_property_extraction(child, properties)"
   ]
  },
  {
   "cell_type": "code",
   "execution_count": null,
   "metadata": {
    "id": "aTg0tU4jbHUK"
   },
   "outputs": [],
   "source": [
    "def process_simple_variants(node, style, component_name, subtype):\n",
    "  \"\"\"\n",
    "  A method to process the simple variants\n",
    "\n",
    "  Parameters\n",
    "  node = node to process the variants from\n",
    "  style = style of the component\n",
    "  component_name = name of the component\n",
    "  subtype = subtype of the component\n",
    "\n",
    "  Return\n",
    "  variants = list of variants\n",
    "  \"\"\"\n",
    "  variants = []\n",
    "  #check if layer = component set\n",
    "  if node['type'] == 'COMPONENT_SET' or node['type'] == 'COMPONENT':\n",
    "    variant_nodes = node['children'] if node['type'] == 'COMPONENT_SET' else [node]\n",
    "    for child in variant_nodes:\n",
    "      #extract variant details\n",
    "      variant_details = extract_variant_name(child['name'])\n",
    "      #extract simple properties\n",
    "      variant_properties = extract_simple_properties(child)\n",
    "      #append to variants\n",
    "      variant_properties.update({\n",
    "        \"style\": style,\n",
    "        \"component_name\": component_name,\n",
    "        \"subtype\": subtype,\n",
    "        \"variant_details\": variant_details,\n",
    "      })\n",
    "      #append to variants\n",
    "      variants.append({\"variant_properties\": variant_properties})\n",
    "  return variants"
   ]
  },
  {
   "cell_type": "code",
   "execution_count": null,
   "metadata": {
    "id": "3EfYOMv6aBVc"
   },
   "outputs": [],
   "source": [
    "def output_simple_data(file_data, component_types):\n",
    "  \"\"\"\n",
    "  A method to output the simple data\n",
    "\n",
    "  Parameters\n",
    "  file_data = data extracted from figma\n",
    "  component_types = list of component types to extract\n",
    "  \"\"\"\n",
    "  organized_data = []\n",
    "  #canvas\n",
    "  for canvas in file_data.get(\"document\", {}).get(\"children\", []):\n",
    "    #get children\n",
    "    for node in canvas.get(\"children\", []):\n",
    "      #select component set data\n",
    "      if node[\"type\"] in [\"COMPONENT_SET\", \"COMPONENT\"]:\n",
    "        #extract component name\n",
    "        style, component_name, subtype = extract_componentset_name(node[\"name\"])\n",
    "        if component_name.lower() in component_types:\n",
    "          #process variants\n",
    "          variants = process_simple_variants(node, style, component_name, subtype)\n",
    "          organized_data.extend(variants)\n",
    "  return organized_data"
   ]
  },
  {
   "cell_type": "code",
   "execution_count": null,
   "metadata": {
    "id": "9oWeHHBAaKSe"
   },
   "outputs": [],
   "source": [
    "def print_output(data, component_types):\n",
    "  \"\"\"\n",
    "  A method to print the output\n",
    "\n",
    "  Parameters\n",
    "  data = data to print\n",
    "  component_types = list of component types to print\n",
    "  \"\"\"\n",
    "  for comp_type in component_types:\n",
    "    samples = [d for d in data if d[\"variant_properties\"][\"component_name\"].lower() == comp_type][:2]\n",
    "    for sample in samples:\n",
    "      print(json.dumps(sample, indent=4))\n"
   ]
  },
  {
   "cell_type": "code",
   "execution_count": null,
   "metadata": {
    "id": "pb3BVAZ0aVE7"
   },
   "outputs": [],
   "source": [
    "def simple_data_output(figma_data):\n",
    "  \"\"\"\n",
    "  A method to output the simple data\n",
    "\n",
    "  Parameters\n",
    "  figma_data = data extracted from figma\n",
    "  \"\"\"\n",
    "  component_types = ['button', 'input-field']\n",
    "  organized_data = output_simple_data(figma_data, component_types)\n",
    "  print_output(organized_data, component_types)"
   ]
  },
  {
   "cell_type": "code",
   "execution_count": null,
   "metadata": {
    "colab": {
     "base_uri": "https://localhost:8080/"
    },
    "collapsed": true,
    "executionInfo": {
     "elapsed": 5,
     "status": "ok",
     "timestamp": 1717914050526,
     "user": {
      "displayName": "K.Ishani",
      "userId": "03791568905300336534"
     },
     "user_tz": -330
    },
    "id": "dahfMgNUaeb-",
    "outputId": "0759f79d-706f-4672-cb5f-d35fb25f9857"
   },
   "outputs": [
    {
     "name": "stdout",
     "output_type": "stream",
     "text": [
      "{\n",
      "    \"variant_properties\": {\n",
      "        \"color\": \"rgba(255, 255, 255, 1.0)\",\n",
      "        \"strokes\": [\n",
      "            \"rgba(126, 86, 216, 1.0)\"\n",
      "        ],\n",
      "        \"strokeWeight\": 1.0,\n",
      "        \"text\": \"Button CTA\",\n",
      "        \"textColor\": \"rgba(255, 255, 255, 1.0)\",\n",
      "        \"borderRadius\": 10.0,\n",
      "        \"fontFamily\": \"Inter\",\n",
      "        \"fontWeight\": 500,\n",
      "        \"fontSize\": 14.0,\n",
      "        \"effects\": [\n",
      "            {\n",
      "                \"type\": \"DROP_SHADOW\",\n",
      "                \"color\": \"rgba(16, 24, 40, 0.05000000074505806)\"\n",
      "            }\n",
      "        ],\n",
      "        \"padding\": 0,\n",
      "        \"width\": 77.0,\n",
      "        \"height\": 20.0,\n",
      "        \"x\": -4619.0,\n",
      "        \"y\": -2135.0,\n",
      "        \"hasIcon\": false,\n",
      "        \"style\": \"Professional\",\n",
      "        \"component_name\": \"Button\",\n",
      "        \"subtype\": \"Default\",\n",
      "        \"variant_details\": {\n",
      "            \"State\": [\n",
      "                \"Default\"\n",
      "            ],\n",
      "            \"Size\": [\n",
      "                \"Small\"\n",
      "            ]\n",
      "        }\n",
      "    }\n",
      "}\n",
      "{\n",
      "    \"variant_properties\": {\n",
      "        \"color\": \"rgba(255, 255, 255, 1.0)\",\n",
      "        \"strokes\": [\n",
      "            \"rgba(126, 86, 216, 1.0)\"\n",
      "        ],\n",
      "        \"strokeWeight\": 1.0,\n",
      "        \"text\": \"Button CTA\",\n",
      "        \"textColor\": \"rgba(255, 255, 255, 1.0)\",\n",
      "        \"borderRadius\": 10.0,\n",
      "        \"fontFamily\": \"Inter\",\n",
      "        \"fontWeight\": 500,\n",
      "        \"fontSize\": 14.0,\n",
      "        \"effects\": [\n",
      "            {\n",
      "                \"type\": \"DROP_SHADOW\",\n",
      "                \"color\": \"rgba(16, 24, 40, 0.05000000074505806)\"\n",
      "            }\n",
      "        ],\n",
      "        \"padding\": 0,\n",
      "        \"width\": 77.0,\n",
      "        \"height\": 20.0,\n",
      "        \"x\": -4474.0,\n",
      "        \"y\": -2133.0,\n",
      "        \"hasIcon\": false,\n",
      "        \"style\": \"Professional\",\n",
      "        \"component_name\": \"Button\",\n",
      "        \"subtype\": \"Default\",\n",
      "        \"variant_details\": {\n",
      "            \"State\": [\n",
      "                \"Default\"\n",
      "            ],\n",
      "            \"Size\": [\n",
      "                \"Large\"\n",
      "            ]\n",
      "        }\n",
      "    }\n",
      "}\n",
      "{\n",
      "    \"variant_properties\": {\n",
      "        \"color\": \"rgba(102, 112, 132, 1.0)\",\n",
      "        \"strokes\": [\n",
      "            \"rgba(207, 212, 220, 1.0)\",\n",
      "            \"rgba(102, 112, 132, 1.0)\",\n",
      "            \"rgba(152, 161, 178, 1.0)\"\n",
      "        ],\n",
      "        \"strokeWeight\": 1.0,\n",
      "        \"text\": \"This is a hint text to help user.\",\n",
      "        \"textColor\": \"rgba(102, 112, 132, 1.0)\",\n",
      "        \"borderRadius\": 8.0,\n",
      "        \"fontFamily\": \"Inter\",\n",
      "        \"fontWeight\": 400,\n",
      "        \"fontSize\": 14.0,\n",
      "        \"effects\": [\n",
      "            {\n",
      "                \"type\": \"DROP_SHADOW\",\n",
      "                \"color\": \"rgba(16, 24, 40, 0.05000000074505806)\"\n",
      "            }\n",
      "        ],\n",
      "        \"padding\": 0,\n",
      "        \"width\": 320.0,\n",
      "        \"height\": 20.0,\n",
      "        \"x\": 8092.0,\n",
      "        \"y\": -1861.0,\n",
      "        \"hasIcon\": true,\n",
      "        \"style\": \"Professional\",\n",
      "        \"component_name\": \"input-field\",\n",
      "        \"subtype\": \"Default\",\n",
      "        \"variant_details\": {\n",
      "            \"State\": [\n",
      "                \"Default\"\n",
      "            ]\n",
      "        }\n",
      "    }\n",
      "}\n",
      "{\n",
      "    \"variant_properties\": {\n",
      "        \"color\": \"rgba(102, 112, 132, 1.0)\",\n",
      "        \"strokes\": [\n",
      "            \"rgba(207, 212, 220, 1.0)\",\n",
      "            \"rgba(102, 112, 132, 1.0)\",\n",
      "            \"rgba(152, 161, 178, 1.0)\"\n",
      "        ],\n",
      "        \"strokeWeight\": 1.0,\n",
      "        \"text\": \"This is a hint text to help user.\",\n",
      "        \"textColor\": \"rgba(102, 112, 132, 1.0)\",\n",
      "        \"borderRadius\": 8.0,\n",
      "        \"fontFamily\": \"Inter\",\n",
      "        \"fontWeight\": 400,\n",
      "        \"fontSize\": 14.0,\n",
      "        \"effects\": [\n",
      "            {\n",
      "                \"type\": \"DROP_SHADOW\",\n",
      "                \"color\": \"rgba(16, 24, 40, 0.05000000074505806)\"\n",
      "            }\n",
      "        ],\n",
      "        \"padding\": 0,\n",
      "        \"width\": 320.0,\n",
      "        \"height\": 20.0,\n",
      "        \"x\": 8092.0,\n",
      "        \"y\": -1681.0,\n",
      "        \"hasIcon\": true,\n",
      "        \"style\": \"Professional\",\n",
      "        \"component_name\": \"input-field\",\n",
      "        \"subtype\": \"Default\",\n",
      "        \"variant_details\": {\n",
      "            \"State\": [\n",
      "                \"Disabled\"\n",
      "            ]\n",
      "        }\n",
      "    }\n",
      "}\n"
     ]
    }
   ],
   "source": [
    "simple_data_output(figma_data)"
   ]
  },
  {
   "cell_type": "code",
   "execution_count": null,
   "metadata": {
    "id": "v25UQyC9dQnn"
   },
   "outputs": [],
   "source": [
    "#path\n",
    "simplified_data_path = '/content/drive/My Drive/Implementation/Final Thesis/FYP/simplecomponents.jsonl'"
   ]
  },
  {
   "cell_type": "code",
   "execution_count": null,
   "metadata": {
    "id": "tcYmSliBdv8b"
   },
   "outputs": [],
   "source": [
    "#define components\n",
    "organized_data = output_simple_data(figma_data, ['button', 'input-field', 'menu', 'list-item', 'label', 'icon-button'])"
   ]
  },
  {
   "cell_type": "code",
   "execution_count": null,
   "metadata": {
    "id": "UB_cQzTrd2TP"
   },
   "outputs": [],
   "source": [
    "save_data(organized_data, simplified_data_path)"
   ]
  },
  {
   "cell_type": "markdown",
   "metadata": {
    "id": "QT41TDKiRifY"
   },
   "source": [
    "### Showing part"
   ]
  },
  {
   "cell_type": "code",
   "execution_count": null,
   "metadata": {
    "id": "5FBvYESnTLRW"
   },
   "outputs": [],
   "source": [
    "def prepare_data_for_normalization(processed_data):\n",
    "  \"\"\"\n",
    "  A method to prepare the data for normalization\n",
    "\n",
    "  Parameters\n",
    "  processed_data = data to prepare for normalization\n",
    "  \"\"\"\n",
    "  prepared_data = []\n",
    "  for entry in processed_data:\n",
    "    #variant properties\n",
    "    variant_properties = entry.get('variant_properties', {})\n",
    "    if isinstance(variant_properties, dict):\n",
    "      #list\n",
    "      variant_properties = [variant_properties]\n",
    "    for variant in variant_properties:\n",
    "      prepared_data.append(variant)\n",
    "  return prepared_data"
   ]
  },
  {
   "cell_type": "code",
   "execution_count": null,
   "metadata": {
    "id": "IdW2-byJRLhW"
   },
   "outputs": [],
   "source": [
    "def load_normalize_data(processed_data):\n",
    "  \"\"\"\n",
    "  A method to load and normalize the data\n",
    "\n",
    "  Parameters\n",
    "  processed_data = data to load and normalize\n",
    "  \"\"\"\n",
    "  prepared_data = prepare_data_for_normalization(processed_data)\n",
    "  #load\n",
    "  df = pd.json_normalize(prepared_data)\n",
    "  return df"
   ]
  },
  {
   "cell_type": "code",
   "execution_count": null,
   "metadata": {
    "id": "HWksR2U-Sn2C"
   },
   "outputs": [],
   "source": [
    "#loading and normalising\n",
    "df = load_normalize_data(processed_data)"
   ]
  },
  {
   "cell_type": "code",
   "execution_count": null,
   "metadata": {
    "id": "T-98NzBhRsdv"
   },
   "outputs": [],
   "source": [
    "def display_basic_statistics(df):\n",
    "  \"\"\"\n",
    "  A method to display basic statistics of the data\n",
    "\n",
    "  Parameters\n",
    "  df = data to display basic statistics\n",
    "  \"\"\"\n",
    "  #stats for numeric data\n",
    "  numeric_df = df.select_dtypes(include=['number'])\n",
    "  print(\"Numeric columns stats:\")\n",
    "  print(numeric_df.describe())\n",
    "\n",
    "  #stats for categorical data\n",
    "  categorical_df = df.select_dtypes(exclude=['number'])\n",
    "  for column in categorical_df.columns:\n",
    "    print(f\"\\nStats for categorical column: {column}\")\n",
    "    print(categorical_df[column].value_counts())"
   ]
  },
  {
   "cell_type": "code",
   "execution_count": null,
   "metadata": {
    "colab": {
     "base_uri": "https://localhost:8080/"
    },
    "collapsed": true,
    "executionInfo": {
     "elapsed": 1843,
     "status": "ok",
     "timestamp": 1718104512250,
     "user": {
      "displayName": "K.Ishani",
      "userId": "03791568905300336534"
     },
     "user_tz": -330
    },
    "id": "YHxQSBtNSph7",
    "outputId": "dc3f29e8-f4d1-457d-de9a-b784e269ff3d"
   },
   "outputs": [
    {
     "name": "stdout",
     "output_type": "stream",
     "text": [
      "Numeric columns stats:\n",
      "             width       height  layout.padding.left  layout.padding.right  \\\n",
      "count  5648.000000  5648.000000          5360.000000           5360.000000   \n",
      "mean    136.836450    42.989800             7.410485              7.378022   \n",
      "std     111.400199    19.513321             8.365775              8.403555   \n",
      "min      16.000002    16.000000             0.000000              0.000000   \n",
      "25%      57.000000    32.000000             0.000000              0.000000   \n",
      "50%      87.000000    40.000000             4.000000              4.000000   \n",
      "75%     210.000000    48.000000            15.000000             15.000000   \n",
      "max     451.000000   180.000000            40.000000             40.000000   \n",
      "\n",
      "       layout.padding.top  layout.padding.bottom  layout.itemSpacing  \n",
      "count         5360.000000            5360.000000         5360.000000  \n",
      "mean             3.077649               3.078396            4.148134  \n",
      "std              4.869524               4.872577            4.705120  \n",
      "min              0.000000               0.000000            0.000000  \n",
      "25%              0.000000               0.000000            0.000000  \n",
      "50%              0.000000               0.000000            2.500000  \n",
      "75%              6.000000               6.000000            8.000000  \n",
      "max             36.799999              36.799999           24.000000  \n",
      "\n",
      "Stats for categorical column: style\n",
      "style\n",
      "Basic           2084\n",
      "Trendy          1889\n",
      "Professional    1406\n",
      "Playful          254\n",
      "Root              15\n",
      "Name: count, dtype: int64\n",
      "\n",
      "Stats for categorical column: component_name\n",
      "component_name\n",
      "Button         2829\n",
      "input-field     804\n",
      "Label           776\n",
      "icon-button     683\n",
      "list-item       484\n",
      "menu             72\n",
      "Name: count, dtype: int64\n",
      "\n",
      "Stats for categorical column: subtype\n",
      "subtype\n",
      "Default                  2493\n",
      "Dark                     1071\n",
      "Light                     714\n",
      "Small                     420\n",
      "With Icons                288\n",
      "Danger                    228\n",
      "Circle                     96\n",
      "Medium                     50\n",
      "Text                       38\n",
      "Password                   37\n",
      "Toggle                     32\n",
      "Ghost                      27\n",
      "Status                     24\n",
      "Menu                       24\n",
      "Large                      22\n",
      "light                      20\n",
      "Shiny                      16\n",
      "Glow                       16\n",
      "Text and Symbol            10\n",
      "Custom                      8\n",
      "Sign in with Facebook       4\n",
      "Sign in with Google         4\n",
      "Sign in with Apple          3\n",
      "Sign in with Twitter        2\n",
      "Calendar                    1\n",
      "Name: count, dtype: int64\n",
      "\n",
      "Stats for categorical column: name\n",
      "name\n",
      "Size=Large                                                                                                                201\n",
      "Size=Medium                                                                                                               201\n",
      "Size=Small                                                                                                                160\n",
      "Size=small                                                                                                                 44\n",
      "State=Hover                                                                                                                18\n",
      "                                                                                                                         ... \n",
      "Style=Outline accent, Size=Small, State=Disabled                                                                            1\n",
      "Style=Outline, Size=Small, State=Disabled                                                                                   1\n",
      "Style=Outline accent, Size=Small, State=Focus                                                                               1\n",
      "Style=Outline, Size=Small, State=Focus                                                                                      1\n",
      "appearance=subtle link, state=press, spacing=none, isSelected=false, isDisabled=false, isLoading=false, iconOnly=false      1\n",
      "Name: count, Length: 3856, dtype: int64\n",
      "\n",
      "Stats for categorical column: type\n",
      "type\n",
      "COMPONENT    5648\n",
      "Name: count, dtype: int64\n",
      "\n",
      "Stats for categorical column: fills\n",
      "fills\n",
      "[]                                                                                                     1748\n",
      "[{'color': {'r': 1.0, 'g': 1.0, 'b': 1.0, 'a': 1.0}}]                                                  1062\n",
      "[{'color': {'r': 0.0, 'g': 0.0, 'b': 0.0, 'a': 1.0}}]                                                   456\n",
      "[{'color': {'r': 0.9960784316062927, 'g': 0.9686274528503418, 'b': 1.0, 'a': 1.0}}]                     300\n",
      "[{'color': {'r': 0.0784313753247261, 'g': 0.07058823853731155, 'b': 0.0941176488995552, 'a': 1.0}}]     299\n",
      "                                                                                                       ... \n",
      "[{'color': {'r': 0.615686297416687, 'g': 0.08235294371843338, 'b': 0.08235294371843338, 'a': 1.0}}]       1\n",
      "[{'color': {'r': 0.9725490212440491, 'g': 0.886274516582489, 'b': 0.886274516582489, 'a': 1.0}}]          1\n",
      "[{'color': {'r': 0.0, 'g': 0.40392154455184937, 'b': 0.8583333492279053, 'a': 1.0}}]                      1\n",
      "[{'color': {'r': 0.25882354378700256, 'g': 0.5215686559677124, 'b': 0.95686274766922, 'a': 1.0}}]         1\n",
      "[{'color': {'r': 0.7882353067398071, 'g': 0.43529412150382996, 'b': 0.0, 'a': 1.0}}]                      1\n",
      "Name: count, Length: 147, dtype: int64\n",
      "\n",
      "Stats for categorical column: strokes\n",
      "strokes\n",
      "[]                                                                                                                   3759\n",
      "[{'color': {'r': 0.8509804010391235, 'g': 0.8509804010391235, 'b': 0.8509804010391235, 'a': 1.0}, 'weight': 1.0}]     182\n",
      "[{'color': {'r': 0.250980406999588, 'g': 0.5882353186607361, 'b': 1.0, 'a': 1.0}, 'weight': 1.0}]                     150\n",
      "[{'color': {'r': 0.3490196168422699, 'g': 0.364705890417099, 'b': 0.3843137323856354, 'a': 1.0}, 'weight': 1.0}]      120\n",
      "[{'color': {'r': 1.0, 'g': 0.6392157077789307, 'b': 0.6196078658103943, 'a': 1.0}, 'weight': 1.0}]                    117\n",
      "                                                                                                                     ... \n",
      "[{'color': {'r': 0.8509804010391235, 'g': 0.2078431397676468, 'b': 0.2078431397676468, 'a': 1.0}, 'weight': 1.0}]       1\n",
      "[{'color': {'r': 0.9960784316062927, 'g': 0.9960784316062927, 'b': 0.9960784316062927, 'a': 1.0}, 'weight': 1.0}]       1\n",
      "[{'color': {'r': 0.0, 'g': 0.26274511218070984, 'b': 0.5490196347236633, 'a': 1.0}, 'weight': 1.0}]                     1\n",
      "[{'color': {'r': 0.3019607961177826, 'g': 0.3019607961177826, 'b': 0.3019607961177826, 'a': 1.0}, 'weight': 1.0}]       1\n",
      "[{'color': {'r': 1.0, 'g': 0.15294118225574493, 'b': 0.45098039507865906, 'a': 1.0}, 'weight': 1.0}]                    1\n",
      "Name: count, Length: 90, dtype: int64\n",
      "\n",
      "Stats for categorical column: effects\n",
      "effects\n",
      "[]                                                                                                                                                                                                                                                                                                                                                                                                                                                                                                                                                                                                                                                                                                                                                                                                                                                                                                                                                                                                                                                                                                                                                                                                                                                                                                                                                                                                                                                                                                                                                                                                              4428\n",
      "[{'type': 'DROP_SHADOW', 'visible': True, 'color': {'r': 0.019607843831181526, 'g': 0.5686274766921997, 'b': 1.0, 'a': 0.10000000149011612}, 'blendMode': 'NORMAL', 'offset': {'x': 0.0, 'y': 2.0}, 'radius': 0.0, 'showShadowBehindNode': False, 'boundVariables': {'color': {'type': 'VARIABLE_ALIAS', 'id': 'VariableID:f6775c2be1d318c6c37a03a5cbff5f215aa1ea46/816:25'}}}]                                                                                                                                                                                                                                                                                                                                                                                                                                                                                                                                                                                                                                                                                                                                                                                                                                                                                                                                                                                                                                                                                                                                                                                                                                  258\n",
      "[{'type': 'DROP_SHADOW', 'visible': True, 'color': {'r': 0.0, 'g': 0.0, 'b': 0.0, 'a': 0.019999999552965164}, 'blendMode': 'NORMAL', 'offset': {'x': 0.0, 'y': 2.0}, 'radius': 0.0, 'showShadowBehindNode': False, 'boundVariables': {'color': {'type': 'VARIABLE_ALIAS', 'id': 'VariableID:0eee9c985cdb274b66a58ceec6ad482a54699a4e/783:3859'}}}]                                                                                                                                                                                                                                                                                                                                                                                                                                                                                                                                                                                                                                                                                                                                                                                                                                                                                                                                                                                                                                                                                                                                                                                                                                                               198\n",
      "[{'type': 'DROP_SHADOW', 'visible': True, 'color': {'r': 0.30588236451148987, 'g': 0.27450981736183167, 'b': 0.7058823704719543, 'a': 0.11999999731779099}, 'blendMode': 'NORMAL', 'offset': {'x': 0.0, 'y': 0.0}, 'radius': 0.0, 'spread': 6.0, 'showShadowBehindNode': False}, {'type': 'DROP_SHADOW', 'visible': True, 'color': {'r': 1.0, 'g': 1.0, 'b': 1.0, 'a': 1.0}, 'blendMode': 'NORMAL', 'offset': {'x': 0.0, 'y': 0.0}, 'radius': 0.0, 'spread': 2.0, 'showShadowBehindNode': False}]                                                                                                                                                                                                                                                                                                                                                                                                                                                                                                                                                                                                                                                                                                                                                                                                                                                                                                                                                                                                                                                                                                                120\n",
      "[{'type': 'BACKGROUND_BLUR', 'visible': True, 'radius': 20.0}, {'type': 'DROP_SHADOW', 'visible': True, 'color': {'r': 0.0, 'g': 0.0, 'b': 0.0, 'a': 0.10000000149011612}, 'blendMode': 'NORMAL', 'offset': {'x': 0.0, 'y': 10.0}, 'radius': 10.0, 'showShadowBehindNode': False}, {'type': 'DROP_SHADOW', 'visible': True, 'color': {'r': 0.0, 'g': 0.0, 'b': 0.0, 'a': 0.05000000074505806}, 'blendMode': 'NORMAL', 'offset': {'x': 0.0, 'y': 4.0}, 'radius': 4.0, 'showShadowBehindNode': False}, {'type': 'DROP_SHADOW', 'visible': True, 'color': {'r': 0.0, 'g': 0.0, 'b': 0.0, 'a': 0.05000000074505806}, 'blendMode': 'NORMAL', 'offset': {'x': 0.0, 'y': 1.0}, 'radius': 0.0, 'showShadowBehindNode': False}]                                                                                                                                                                                                                                                                                                                                                                                                                                                                                                                                                                                                                                                                                                                                                                                                                                                                                           104\n",
      "[{'type': 'DROP_SHADOW', 'visible': True, 'color': {'r': 0.062745101749897, 'g': 0.0941176488995552, 'b': 0.1568627506494522, 'a': 0.05000000074505806}, 'blendMode': 'NORMAL', 'offset': {'x': 0.0, 'y': 1.0}, 'radius': 2.0, 'showShadowBehindNode': True}]                                                                                                                                                                                                                                                                                                                                                                                                                                                                                                                                                                                                                                                                                                                                                                                                                                                                                                                                                                                                                                                                                                                                                                                                                                                                                                                                                    100\n",
      "[{'type': 'DROP_SHADOW', 'visible': True, 'color': {'r': 0.0, 'g': 0.0, 'b': 0.0, 'a': 0.15000000596046448}, 'blendMode': 'NORMAL', 'offset': {'x': 0.0, 'y': 1.0}, 'radius': 3.0, 'spread': 1.0, 'showShadowBehindNode': True}, {'type': 'DROP_SHADOW', 'visible': True, 'color': {'r': 0.0, 'g': 0.0, 'b': 0.0, 'a': 0.30000001192092896}, 'blendMode': 'NORMAL', 'offset': {'x': 0.0, 'y': 1.0}, 'radius': 2.0, 'showShadowBehindNode': True}]                                                                                                                                                                                                                                                                                                                                                                                                                                                                                                                                                                                                                                                                                                                                                                                                                                                                                                                                                                                                                                                                                                                                                                 64\n",
      "[{'type': 'DROP_SHADOW', 'visible': True, 'color': {'r': 0.0, 'g': 0.0, 'b': 0.0, 'a': 0.30000001192092896}, 'blendMode': 'NORMAL', 'offset': {'x': 0.0, 'y': 1.0}, 'radius': 2.0, 'showShadowBehindNode': True}, {'type': 'DROP_SHADOW', 'visible': True, 'color': {'r': 0.0, 'g': 0.0, 'b': 0.0, 'a': 0.15000000596046448}, 'blendMode': 'NORMAL', 'offset': {'x': 0.0, 'y': 1.0}, 'radius': 3.0, 'spread': 1.0, 'showShadowBehindNode': True}]                                                                                                                                                                                                                                                                                                                                                                                                                                                                                                                                                                                                                                                                                                                                                                                                                                                                                                                                                                                                                                                                                                                                                                 64\n",
      "[{'type': 'DROP_SHADOW', 'visible': True, 'color': {'r': 0.0, 'g': 0.0, 'b': 0.0, 'a': 0.30000001192092896}, 'blendMode': 'NORMAL', 'offset': {'x': 0.0, 'y': 1.0}, 'radius': 3.0, 'showShadowBehindNode': True}, {'type': 'DROP_SHADOW', 'visible': True, 'color': {'r': 0.0, 'g': 0.0, 'b': 0.0, 'a': 0.15000000596046448}, 'blendMode': 'NORMAL', 'offset': {'x': 0.0, 'y': 4.0}, 'radius': 8.0, 'spread': 3.0, 'showShadowBehindNode': True}]                                                                                                                                                                                                                                                                                                                                                                                                                                                                                                                                                                                                                                                                                                                                                                                                                                                                                                                                                                                                                                                                                                                                                                 40\n",
      "[{'type': 'DROP_SHADOW', 'visible': True, 'color': {'r': 0.9497647285461426, 'g': 0.9558039903640747, 'b': 0.9678823947906494, 'a': 1.0}, 'blendMode': 'NORMAL', 'offset': {'x': 0.0, 'y': 0.0}, 'radius': 0.0, 'spread': 4.0, 'showShadowBehindNode': True}, {'type': 'DROP_SHADOW', 'visible': True, 'color': {'r': 0.062745101749897, 'g': 0.0941176488995552, 'b': 0.1568627506494522, 'a': 0.05000000074505806}, 'blendMode': 'NORMAL', 'offset': {'x': 0.0, 'y': 1.0}, 'radius': 2.0, 'showShadowBehindNode': True}]                                                                                                                                                                                                                                                                                                                                                                                                                                                                                                                                                                                                                                                                                                                                                                                                                                                                                                                                                                                                                                                                                        36\n",
      "[{'type': 'DROP_SHADOW', 'visible': True, 'color': {'r': 0.0, 'g': 0.0, 'b': 0.0, 'a': 0.30000001192092896}, 'blendMode': 'NORMAL', 'offset': {'x': 0.0, 'y': 2.0}, 'radius': 3.0, 'showShadowBehindNode': True}, {'type': 'DROP_SHADOW', 'visible': True, 'color': {'r': 0.0, 'g': 0.0, 'b': 0.0, 'a': 0.15000000596046448}, 'blendMode': 'NORMAL', 'offset': {'x': 0.0, 'y': 6.0}, 'radius': 10.0, 'spread': 4.0, 'showShadowBehindNode': True}]                                                                                                                                                                                                                                                                                                                                                                                                                                                                                                                                                                                                                                                                                                                                                                                                                                                                                                                                                                                                                                                                                                                                                                32\n",
      "[{'type': 'BACKGROUND_BLUR', 'visible': True, 'radius': 20.0}]                                                                                                                                                                                                                                                                                                                                                                                                                                                                                                                                                                                                                                                                                                                                                                                                                                                                                                                                                                                                                                                                                                                                                                                                                                                                                                                                                                                                                                                                                                                                                    27\n",
      "[{'type': 'DROP_SHADOW', 'visible': True, 'color': {'r': 0.0, 'g': 0.43921568989753723, 'b': 0.8235294222831726, 'a': 1.0}, 'blendMode': 'NORMAL', 'offset': {'x': 0.0, 'y': 0.0}, 'radius': 3.0, 'showShadowBehindNode': True}]                                                                                                                                                                                                                                                                                                                                                                                                                                                                                                                                                                                                                                                                                                                                                                                                                                                                                                                                                                                                                                                                                                                                                                                                                                                                                                                                                                                  24\n",
      "[{'type': 'DROP_SHADOW', 'visible': True, 'color': {'r': 0.0, 'g': 0.0, 'b': 0.0, 'a': 0.15000000596046448}, 'blendMode': 'NORMAL', 'offset': {'x': 0.0, 'y': 2.0}, 'radius': 6.0, 'spread': 2.0, 'showShadowBehindNode': True}, {'type': 'DROP_SHADOW', 'visible': True, 'color': {'r': 0.0, 'g': 0.0, 'b': 0.0, 'a': 0.30000001192092896}, 'blendMode': 'NORMAL', 'offset': {'x': 0.0, 'y': 1.0}, 'radius': 2.0, 'showShadowBehindNode': True}]                                                                                                                                                                                                                                                                                                                                                                                                                                                                                                                                                                                                                                                                                                                                                                                                                                                                                                                                                                                                                                                                                                                                                                 24\n",
      "[{'type': 'DROP_SHADOW', 'visible': True, 'color': {'r': 0.0, 'g': 0.0, 'b': 0.0, 'a': 0.05000000074505806}, 'blendMode': 'NORMAL', 'offset': {'x': 0.0, 'y': 9.0}, 'radius': 28.0, 'spread': 8.0, 'showShadowBehindNode': False}, {'type': 'DROP_SHADOW', 'visible': True, 'color': {'r': 0.0, 'g': 0.0, 'b': 0.0, 'a': 0.11999999731779099}, 'blendMode': 'NORMAL', 'offset': {'x': 0.0, 'y': 3.0}, 'radius': 6.0, 'spread': -4.0, 'showShadowBehindNode': False}, {'type': 'DROP_SHADOW', 'visible': True, 'color': {'r': 0.0, 'g': 0.0, 'b': 0.0, 'a': 0.07999999821186066}, 'blendMode': 'NORMAL', 'offset': {'x': 0.0, 'y': 6.0}, 'radius': 16.0, 'showShadowBehindNode': False}]                                                                                                                                                                                                                                                                                                                                                                                                                                                                                                                                                                                                                                                                                                                                                                                                                                                                                                                           24\n",
      "[{'type': 'DROP_SHADOW', 'visible': True, 'color': {'r': 0.0, 'g': 0.0, 'b': 0.0, 'a': 0.30000001192092896}, 'blendMode': 'NORMAL', 'offset': {'x': 0.0, 'y': 1.0}, 'radius': 2.0, 'showShadowBehindNode': True}, {'type': 'DROP_SHADOW', 'visible': True, 'color': {'r': 0.0, 'g': 0.0, 'b': 0.0, 'a': 0.15000000596046448}, 'blendMode': 'NORMAL', 'offset': {'x': 0.0, 'y': 2.0}, 'radius': 6.0, 'spread': 2.0, 'showShadowBehindNode': True}]                                                                                                                                                                                                                                                                                                                                                                                                                                                                                                                                                                                                                                                                                                                                                                                                                                                                                                                                                                                                                                                                                                                                                                 22\n",
      "[{'type': 'INNER_SHADOW', 'visible': True, 'color': {'r': 1.0, 'g': 1.0, 'b': 1.0, 'a': 0.07999999821186066}, 'blendMode': 'NORMAL', 'offset': {'x': 0.0, 'y': 8.0}, 'radius': 12.0}, {'type': 'DROP_SHADOW', 'visible': True, 'color': {'r': 0.0, 'g': 0.0, 'b': 0.0, 'a': 0.11999999731779099}, 'blendMode': 'NORMAL', 'offset': {'x': 0.0, 'y': 24.0}, 'radius': 24.0, 'spread': -16.0, 'showShadowBehindNode': False}, {'type': 'INNER_SHADOW', 'visible': True, 'color': {'r': 1.0, 'g': 1.0, 'b': 1.0, 'a': 0.07999999821186066}, 'blendMode': 'NORMAL', 'offset': {'x': 16.0, 'y': 24.0}, 'radius': 64.0, 'spread': -24.0}]                                                                                                                                                                                                                                                                                                                                                                                                                                                                                                                                                                                                                                                                                                                                                                                                                                                                                                                                                                                18\n",
      "[{'type': 'DROP_SHADOW', 'visible': True, 'color': {'r': 0.019607843831181526, 'g': 0.5686274766921997, 'b': 1.0, 'a': 0.10000000149011612}, 'blendMode': 'NORMAL', 'offset': {'x': 0.0, 'y': 0.0}, 'radius': 0.0, 'spread': 2.0, 'showShadowBehindNode': False, 'boundVariables': {'color': {'type': 'VARIABLE_ALIAS', 'id': 'VariableID:f51f9bb8aa69fe0c41151a9031290fbd33cb8254/816:20'}}}]                                                                                                                                                                                                                                                                                                                                                                                                                                                                                                                                                                                                                                                                                                                                                                                                                                                                                                                                                                                                                                                                                                                                                                                                                    18\n",
      "[{'type': 'DROP_SHADOW', 'visible': True, 'color': {'r': 0.41960784792900085, 'g': 0.41960784792900085, 'b': 0.41960784792900085, 'a': 0.05999999865889549}, 'blendMode': 'NORMAL', 'offset': {'x': 0.0, 'y': 0.0}, 'radius': 0.0, 'showShadowBehindNode': True}, {'type': 'DROP_SHADOW', 'visible': True, 'color': {'r': 0.41960784792900085, 'g': 0.41960784792900085, 'b': 0.41960784792900085, 'a': 0.05999999865889549}, 'blendMode': 'NORMAL', 'offset': {'x': -6.0, 'y': 5.0}, 'radius': 17.0, 'showShadowBehindNode': True}, {'type': 'DROP_SHADOW', 'visible': True, 'color': {'r': 0.41960784792900085, 'g': 0.41960784792900085, 'b': 0.41960784792900085, 'a': 0.05000000074505806}, 'blendMode': 'NORMAL', 'offset': {'x': -22.0, 'y': 21.0}, 'radius': 31.0, 'showShadowBehindNode': True}, {'type': 'DROP_SHADOW', 'visible': True, 'color': {'r': 0.41960784792900085, 'g': 0.41960784792900085, 'b': 0.41960784792900085, 'a': 0.029999999329447746}, 'blendMode': 'NORMAL', 'offset': {'x': -50.0, 'y': 48.0}, 'radius': 42.0, 'showShadowBehindNode': True}, {'type': 'DROP_SHADOW', 'visible': True, 'color': {'r': 0.41960784792900085, 'g': 0.41960784792900085, 'b': 0.41960784792900085, 'a': 0.009999999776482582}, 'blendMode': 'NORMAL', 'offset': {'x': -89.0, 'y': 86.0}, 'radius': 49.0, 'showShadowBehindNode': True}, {'type': 'DROP_SHADOW', 'visible': True, 'color': {'r': 0.41960784792900085, 'g': 0.41960784792900085, 'b': 0.41960784792900085, 'a': 0.0}, 'blendMode': 'NORMAL', 'offset': {'x': -139.0, 'y': 134.0}, 'radius': 54.0, 'showShadowBehindNode': True}]       8\n",
      "[{'type': 'DROP_SHADOW', 'visible': True, 'color': {'r': 1.0, 'g': 0.14901961386203766, 'b': 0.0235294122248888, 'a': 0.05999999865889549}, 'blendMode': 'NORMAL', 'offset': {'x': 0.0, 'y': 0.0}, 'radius': 0.0, 'spread': 2.0, 'showShadowBehindNode': False, 'boundVariables': {'color': {'type': 'VARIABLE_ALIAS', 'id': 'VariableID:1e875e464cba2f0b320ce543f1f2093c6c3c9485/827:82'}}}]                                                                                                                                                                                                                                                                                                                                                                                                                                                                                                                                                                                                                                                                                                                                                                                                                                                                                                                                                                                                                                                                                                                                                                                                                      6\n",
      "[{'type': 'DROP_SHADOW', 'visible': True, 'color': {'r': 0.0, 'g': 0.0, 'b': 0.0, 'a': 0.1599999964237213}, 'blendMode': 'NORMAL', 'offset': {'x': 6.0, 'y': 6.0}, 'radius': 12.0, 'showShadowBehindNode': True}, {'type': 'DROP_SHADOW', 'visible': True, 'color': {'r': 1.0, 'g': 1.0, 'b': 1.0, 'a': 0.03999999910593033}, 'blendMode': 'NORMAL', 'offset': {'x': -6.0, 'y': -6.0}, 'radius': 12.0, 'showShadowBehindNode': True}]                                                                                                                                                                                                                                                                                                                                                                                                                                                                                                                                                                                                                                                                                                                                                                                                                                                                                                                                                                                                                                                                                                                                                                              6\n",
      "[{'type': 'DROP_SHADOW', 'visible': True, 'color': {'r': 1.0, 'g': 0.843137264251709, 'b': 0.019607843831181526, 'a': 0.10000000149011612}, 'blendMode': 'NORMAL', 'offset': {'x': 0.0, 'y': 0.0}, 'radius': 0.0, 'spread': 2.0, 'showShadowBehindNode': False, 'boundVariables': {'color': {'type': 'VARIABLE_ALIAS', 'id': 'VariableID:bedeee0def193021e244318497678674ffc3ce24/827:35'}}}]                                                                                                                                                                                                                                                                                                                                                                                                                                                                                                                                                                                                                                                                                                                                                                                                                                                                                                                                                                                                                                                                                                                                                                                                                      6\n",
      "[{'type': 'DROP_SHADOW', 'visible': True, 'color': {'r': 0.12941177189350128, 'g': 0.14509804546833038, 'b': 0.16078431904315948, 'a': 0.07999999821186066}, 'blendMode': 'NORMAL', 'offset': {'x': 0.0, 'y': 0.0}, 'radius': 1.0, 'showShadowBehindNode': True}, {'type': 'DROP_SHADOW', 'visible': True, 'color': {'r': 0.12941177189350128, 'g': 0.14509804546833038, 'b': 0.16078431904315948, 'a': 0.05999999865889549}, 'blendMode': 'NORMAL', 'offset': {'x': 0.0, 'y': 2.0}, 'radius': 2.0, 'showShadowBehindNode': True}]                                                                                                                                                                                                                                                                                                                                                                                                                                                                                                                                                                                                                                                                                                                                                                                                                                                                                                                                                                                                                                                                                 5\n",
      "[{'type': 'DROP_SHADOW', 'visible': True, 'color': {'r': 0.0, 'g': 0.0, 'b': 0.0, 'a': 0.1599999964237213}, 'blendMode': 'NORMAL', 'offset': {'x': 8.0, 'y': 8.0}, 'radius': 12.0, 'showShadowBehindNode': True}, {'type': 'DROP_SHADOW', 'visible': True, 'color': {'r': 1.0, 'g': 1.0, 'b': 1.0, 'a': 0.03999999910593033}, 'blendMode': 'NORMAL', 'offset': {'x': -8.0, 'y': -8.0}, 'radius': 12.0, 'showShadowBehindNode': True}]                                                                                                                                                                                                                                                                                                                                                                                                                                                                                                                                                                                                                                                                                                                                                                                                                                                                                                                                                                                                                                                                                                                                                                              4\n",
      "[{'type': 'DROP_SHADOW', 'visible': True, 'color': {'r': 0.0, 'g': 0.0, 'b': 0.0, 'a': 0.1679999977350235}, 'blendMode': 'NORMAL', 'offset': {'x': 0.0, 'y': 1.0}, 'radius': 1.0, 'showShadowBehindNode': True}, {'type': 'DROP_SHADOW', 'visible': True, 'color': {'r': 0.0, 'g': 0.0, 'b': 0.0, 'a': 0.08399999886751175}, 'blendMode': 'NORMAL', 'offset': {'x': 0.0, 'y': 0.0}, 'radius': 1.0, 'showShadowBehindNode': True}]                                                                                                                                                                                                                                                                                                                                                                                                                                                                                                                                                                                                                                                                                                                                                                                                                                                                                                                                                                                                                                                                                                                                                                                  4\n",
      "[{'type': 'INNER_SHADOW', 'visible': False, 'color': {'r': 0.12156862765550613, 'g': 0.019607843831181526, 'b': 0.29019609093666077, 'a': 0.6000000238418579}, 'blendMode': 'NORMAL', 'offset': {'x': -15.0, 'y': -17.0}, 'radius': 35.0}, {'type': 'INNER_SHADOW', 'visible': False, 'color': {'r': 0.7833333611488342, 'g': 0.7833333611488342, 'b': 0.7833333611488342, 'a': 0.3499999940395355}, 'blendMode': 'NORMAL', 'offset': {'x': 12.0, 'y': 12.0}, 'radius': 37.0}]                                                                                                                                                                                                                                                                                                                                                                                                                                                                                                                                                                                                                                                                                                                                                                                                                                                                                                                                                                                                                                                                                                                                     2\n",
      "[{'type': 'DROP_SHADOW', 'visible': True, 'color': {'r': 0.0, 'g': 0.0, 'b': 0.0, 'a': 0.1599999964237213}, 'blendMode': 'NORMAL', 'offset': {'x': 6.0, 'y': 6.0}, 'radius': 12.0, 'showShadowBehindNode': True}, {'type': 'DROP_SHADOW', 'visible': True, 'color': {'r': 1.0, 'g': 1.0, 'b': 1.0, 'a': 0.03999999910593033}, 'blendMode': 'NORMAL', 'offset': {'x': -6.0, 'y': -6.0}, 'radius': 12.0, 'showShadowBehindNode': True}, {'type': 'INNER_SHADOW', 'visible': True, 'color': {'r': 0.0, 'g': 0.0, 'b': 0.0, 'a': 0.3199999928474426}, 'blendMode': 'NORMAL', 'offset': {'x': 0.0, 'y': 14.0}, 'radius': 14.0}]                                                                                                                                                                                                                                                                                                                                                                                                                                                                                                                                                                                                                                                                                                                                                                                                                                                                                                                                                                                         2\n",
      "[{'type': 'INNER_SHADOW', 'visible': True, 'color': {'r': 0.12156862765550613, 'g': 0.019607843831181526, 'b': 0.29019609093666077, 'a': 0.6000000238418579}, 'blendMode': 'NORMAL', 'offset': {'x': -15.0, 'y': -17.0}, 'radius': 35.0}, {'type': 'INNER_SHADOW', 'visible': True, 'color': {'r': 0.7833333611488342, 'g': 0.7833333611488342, 'b': 0.7833333611488342, 'a': 0.3499999940395355}, 'blendMode': 'NORMAL', 'offset': {'x': 12.0, 'y': 12.0}, 'radius': 37.0}]                                                                                                                                                                                                                                                                                                                                                                                                                                                                                                                                                                                                                                                                                                                                                                                                                                                                                                                                                                                                                                                                                                                                       1\n",
      "[{'type': 'DROP_SHADOW', 'visible': True, 'color': {'r': 0.0, 'g': 0.0, 'b': 0.0, 'a': 0.07999999821186066}, 'blendMode': 'NORMAL', 'offset': {'x': 0.0, 'y': 0.0}, 'radius': 0.0, 'showShadowBehindNode': True}, {'type': 'DROP_SHADOW', 'visible': True, 'color': {'r': 0.0, 'g': 0.0, 'b': 0.0, 'a': 0.07999999821186066}, 'blendMode': 'NORMAL', 'offset': {'x': -3.0, 'y': 3.0}, 'radius': 11.0, 'showShadowBehindNode': True}, {'type': 'DROP_SHADOW', 'visible': True, 'color': {'r': 0.0, 'g': 0.0, 'b': 0.0, 'a': 0.07000000029802322}, 'blendMode': 'NORMAL', 'offset': {'x': -14.0, 'y': 14.0}, 'radius': 20.0, 'showShadowBehindNode': True}, {'type': 'DROP_SHADOW', 'visible': True, 'color': {'r': 0.0, 'g': 0.0, 'b': 0.0, 'a': 0.03999999910593033}, 'blendMode': 'NORMAL', 'offset': {'x': -31.0, 'y': 31.0}, 'radius': 27.0, 'showShadowBehindNode': True}, {'type': 'DROP_SHADOW', 'visible': True, 'color': {'r': 0.0, 'g': 0.0, 'b': 0.0, 'a': 0.009999999776482582}, 'blendMode': 'NORMAL', 'offset': {'x': -56.0, 'y': 56.0}, 'radius': 32.0, 'showShadowBehindNode': True}, {'type': 'DROP_SHADOW', 'visible': True, 'color': {'r': 0.0, 'g': 0.0, 'b': 0.0, 'a': 0.0}, 'blendMode': 'NORMAL', 'offset': {'x': -87.0, 'y': 87.0}, 'radius': 34.0, 'showShadowBehindNode': True}]                                                                                                                                                                                                                                                                                                          1\n",
      "[{'type': 'DROP_SHADOW', 'visible': True, 'color': {'r': 0.1882352977991104, 'g': 0.49803921580314636, 'b': 0.886274516582489, 'a': 0.6000000238418579}, 'blendMode': 'NORMAL', 'offset': {'x': 0.0, 'y': 0.0}, 'radius': 0.0, 'spread': 4.0, 'showShadowBehindNode': True}]                                                                                                                                                                                                                                                                                                                                                                                                                                                                                                                                                                                                                                                                                                                                                                                                                                                                                                                                                                                                                                                                                                                                                                                                                                                                                                                                       1\n",
      "[{'type': 'DROP_SHADOW', 'visible': True, 'color': {'r': 1.0, 'g': 0.14901961386203766, 'b': 0.0235294122248888, 'a': 0.05999999865889549}, 'blendMode': 'NORMAL', 'offset': {'x': 0.0, 'y': 2.0}, 'radius': 0.0, 'showShadowBehindNode': False, 'boundVariables': {'color': {'type': 'VARIABLE_ALIAS', 'id': 'VariableID:da167781dd709c9df06e2cdf2b30959ec8065e59/827:88'}}}]                                                                                                                                                                                                                                                                                                                                                                                                                                                                                                                                                                                                                                                                                                                                                                                                                                                                                                                                                                                                                                                                                                                                                                                                                                     1\n",
      "Name: count, dtype: int64\n",
      "\n",
      "Stats for categorical column: children\n",
      "children\n",
      "[{'name': 'Content', 'type': 'FRAME', 'width': 32.0, 'height': 32.0, 'fills': [], 'strokes': [], 'effects': [], 'layout': {'mode': 'HORIZONTAL', 'alignment': {'primaryAxis': 'CENTER', 'counterAxis': 'CENTER'}, 'sizing': {'primaryAxis': 'FIXED', 'counterAxis': 'FIXED'}, 'padding': {'left': 0, 'right': 0, 'top': 0, 'bottom': 0}, 'itemSpacing': 8.0}, 'children': [{'name': 'Icon / SearchOutlined', 'type': 'INSTANCE', 'width': 16.0, 'height': 16.0, 'fills': [{'color': {'r': 1.0, 'g': 1.0, 'b': 1.0, 'a': 1.0}}], 'strokes': [], 'effects': [], 'children': [{'name': 'Vector', 'type': 'VECTOR', 'width': 12.500054359436035, 'height': 12.500054359436035, 'fills': [{'color': {'r': 0.0, 'g': 0.0, 'b': 0.0, 'a': 1.0}}], 'strokes': [], 'effects': [], 'iconWidth': 12.500054359436035, 'iconHeight': 12.500054359436035, 'iconColor': {'r': 0.0, 'g': 0.0, 'b': 0.0, 'a': 1.0}}]}, {'name': 'Button', 'type': 'TEXT', 'width': 44.0, 'height': 23.0, 'fills': [{'color': {'r': 1.0, 'g': 1.0, 'b': 1.0, 'a': 1.0}}], 'strokes': [], 'effects': [], 'fontFamily': 'SF Pro Text', 'fontWeight': 400, 'fontSize': 14.0, 'characters': 'Button', 'textColor': {'r': 1.0, 'g': 1.0, 'b': 1.0, 'a': 1.0}}]}]                                                                                                                                                                                                                                                                                                                                                                                                                                                                                                                                                                                                                                                                                                                                                                                                                                                                                                                                                                                                                                                                                                                                                                                                                                                                                                                                                                                                                                                                                                                                                                                                                                                                                                                                                                                                                                                                                                                                                                                                                                                                                                                                                                                                                                                                                                                                                                                                                                                                                                                                                                                                                                                                                                                                                                                                                                                                                                                                                                                                                                                                                                                                                                                                                                                                                                                                                                                                                                                                                                                                                                                                                                                                                                                                                                                                                                                                                                                                                                    44\n",
      "[{'name': 'Content', 'type': 'FRAME', 'width': 24.0, 'height': 24.0, 'fills': [], 'strokes': [], 'effects': [], 'layout': {'mode': 'HORIZONTAL', 'alignment': {'primaryAxis': 'CENTER', 'counterAxis': 'CENTER'}, 'sizing': {'primaryAxis': 'FIXED', 'counterAxis': 'FIXED'}, 'padding': {'left': 4.0, 'right': 4.0, 'top': 0, 'bottom': 0}, 'itemSpacing': 8.0}, 'children': [{'name': 'Icon / SearchOutlined', 'type': 'INSTANCE', 'width': 14.0, 'height': 14.0, 'fills': [{'color': {'r': 1.0, 'g': 1.0, 'b': 1.0, 'a': 1.0}}], 'strokes': [], 'effects': [], 'children': [{'name': 'Vector', 'type': 'VECTOR', 'width': 10.93754768371582, 'height': 10.93754768371582, 'fills': [{'color': {'r': 0.0, 'g': 0.0, 'b': 0.0, 'a': 1.0}}], 'strokes': [], 'effects': [], 'iconWidth': 10.93754768371582, 'iconHeight': 10.93754768371582, 'iconColor': {'r': 0.0, 'g': 0.0, 'b': 0.0, 'a': 1.0}}]}, {'name': 'Button', 'type': 'TEXT', 'width': 44.0, 'height': 23.0, 'fills': [{'color': {'r': 1.0, 'g': 1.0, 'b': 1.0, 'a': 1.0}}], 'strokes': [], 'effects': [], 'fontFamily': 'SF Pro Text', 'fontWeight': 400, 'fontSize': 14.0, 'characters': 'Button', 'textColor': {'r': 1.0, 'g': 1.0, 'b': 1.0, 'a': 1.0}}]}]                                                                                                                                                                                                                                                                                                                                                                                                                                                                                                                                                                                                                                                                                                                                                                                                                                                                                                                                                                                                                                                                                                                                                                                                                                                                                                                                                                                                                                                                                                                                                                                                                                                                                                                                                                                                                                                                                                                                                                                                                                                                                                                                                                                                                                                                                                                                                                                                                                                                                                                                                                                                                                                                                                                                                                                                                                                                                                                                                                                                                                                                                                                                                                                                                                                                                                                                                                                                                                                                                                                                                                                                                                                                                                                                                                                                                                                                                                                                                                    44\n",
      "[{'name': 'Content', 'type': 'FRAME', 'width': 40.0, 'height': 40.0, 'fills': [], 'strokes': [], 'effects': [], 'layout': {'mode': 'HORIZONTAL', 'alignment': {'primaryAxis': 'CENTER', 'counterAxis': 'CENTER'}, 'sizing': {'primaryAxis': 'FIXED', 'counterAxis': 'FIXED'}, 'padding': {'left': 12.0, 'right': 12.0, 'top': 0, 'bottom': 0}, 'itemSpacing': 8.0}, 'children': [{'name': 'Icon / SearchOutlined', 'type': 'INSTANCE', 'width': 18.0, 'height': 18.0, 'fills': [{'color': {'r': 1.0, 'g': 1.0, 'b': 1.0, 'a': 1.0}}], 'strokes': [], 'effects': [], 'children': [{'name': 'Vector', 'type': 'VECTOR', 'width': 14.06256103515625, 'height': 14.06256103515625, 'fills': [{'color': {'r': 0.0, 'g': 0.0, 'b': 0.0, 'a': 1.0}}], 'strokes': [], 'effects': [], 'iconWidth': 14.06256103515625, 'iconHeight': 14.06256103515625, 'iconColor': {'r': 0.0, 'g': 0.0, 'b': 0.0, 'a': 1.0}}]}, {'name': 'Button', 'type': 'TEXT', 'width': 18.0, 'height': 19.0, 'fills': [{'color': {'r': 1.0, 'g': 1.0, 'b': 1.0, 'a': 1.0}}], 'strokes': [], 'effects': [], 'fontFamily': 'SF Pro Text', 'fontWeight': 400, 'fontSize': 16.0, 'characters': 'Button', 'textColor': {'r': 1.0, 'g': 1.0, 'b': 1.0, 'a': 1.0}}]}]                                                                                                                                                                                                                                                                                                                                                                                                                                                                                                                                                                                                                                                                                                                                                                                                                                                                                                                                                                                                                                                                                                                                                                                                                                                                                                                                                                                                                                                                                                                                                                                                                                                                                                                                                                                                                                                                                                                                                                                                                                                                                                                                                                                                                                                                                                                                                                                                                                                                                                                                                                                                                                                                                                                                                                                                                                                                                                                                                                                                                                                                                                                                                                                                                                                                                                                                                                                                                                                                                                                                                                                                                                                                                                                                                                                                                                                                                                                                                                  44\n",
      "[{'name': 'Icon', 'type': 'INSTANCE', 'width': 24.0, 'height': 24.0, 'fills': [], 'strokes': [], 'effects': [], 'children': [{'name': 'frame', 'type': 'VECTOR', 'width': 14.25, 'height': 14.25, 'fills': [], 'strokes': [{'color': {'r': 0.0, 'g': 0.0, 'b': 0.0, 'a': 1.0}, 'weight': 1.0}], 'effects': [], 'iconWidth': 14.25, 'iconHeight': 14.25, 'iconColor': {}}]}]                                                                                                                                                                                                                                                                                                                                                                                                                                                                                                                                                                                                                                                                                                                                                                                                                                                                                                                                                                                                                                                                                                                                                                                                                                                                                                                                                                                                                                                                                                                                                                                                                                                                                                                                                                                                                                                                                                                                                                                                                                                                                                                                                                                                                                                                                                                                                                                                                                                                                                                                                                                                                                                                                                                                                                                                                                                                                                                                                                                                                                                                                                                                                                                                                                                                                                                                                                                                                                                                                                                                                                                                                                                                                                                                                                                                                                                                                                                                                                                                                                                                                                                                                                                                                                                                                                                                                                                                                                                                                                                                                                                                                                                                                                                                                                                                                  40\n",
      "[{'name': 'Content', 'type': 'FRAME', 'width': 44.0, 'height': 32.0, 'fills': [], 'strokes': [], 'effects': [], 'layout': {'mode': 'HORIZONTAL', 'alignment': {'primaryAxis': 'CENTER', 'counterAxis': 'CENTER'}, 'sizing': {'primaryAxis': '', 'counterAxis': 'FIXED'}, 'padding': {'left': 0, 'right': 0, 'top': 0, 'bottom': 0}, 'itemSpacing': 8.0}, 'children': [{'name': 'Icon / SearchOutlined', 'type': 'INSTANCE', 'width': 16.0, 'height': 16.0, 'fills': [{'color': {'r': 1.0, 'g': 1.0, 'b': 1.0, 'a': 1.0}}], 'strokes': [], 'effects': [], 'children': [{'name': 'Vector', 'type': 'VECTOR', 'width': 12.500054359436035, 'height': 12.500054359436035, 'fills': [{'color': {'r': 0.0, 'g': 0.0, 'b': 0.0, 'a': 1.0}}], 'strokes': [], 'effects': [], 'iconWidth': 12.500054359436035, 'iconHeight': 12.500054359436035, 'iconColor': {'r': 0.0, 'g': 0.0, 'b': 0.0, 'a': 1.0}}]}, {'name': 'Button', 'type': 'TEXT', 'width': 44.0, 'height': 22.0, 'fills': [{'color': {'r': 0.0, 'g': 0.0, 'b': 0.0, 'a': 1.0}}], 'strokes': [], 'effects': [], 'fontFamily': 'SF Pro Text', 'fontWeight': 400, 'fontSize': 14.0, 'characters': 'Button', 'textColor': {'r': 0.0, 'g': 0.0, 'b': 0.0, 'a': 1.0}}]}]                                                                                                                                                                                                                                                                                                                                                                                                                                                                                                                                                                                                                                                                                                                                                                                                                                                                                                                                                                                                                                                                                                                                                                                                                                                                                                                                                                                                                                                                                                                                                                                                                                                                                                                                                                                                                                                                                                                                                                                                                                                                                                                                                                                                                                                                                                                                                                                                                                                                                                                                                                                                                                                                                                                                                                                                                                                                                                                                                                                                                                                                                                                                                                                                                                                                                                                                                                                                                                                                                                                                                                                                                                                                                                                                                                                                                                                                                                                                                                         34\n",
      "                                                                                                                                                                                                                                                                                                                                                                                                                                                                                                                                                                                                                                                                                                                                                                                                                                                                                                                                                                                                                                                                                                                                                                                                                                                                                                                                                                                                                                                                                                                                                                                                                                                                                                                                                                                                                                                                                                                                                                                                                                                                                                                                                                                                                                                                                                                                                                                                                                                                                                                                                                                                                                                                                                                                                                                                                                                                                                                                                                                                                                                                                                                                                                                                                                                                                                                                                                                                                                                                                                                                                                                                                                                                                                                                                                                                                                                                                                                                                                                                                                                                                                                                                                                                                                                                                                                                                                                                                                                                                                                                                                                                                                                                                                                                                                                                                                                                                                                                                                                                                                                                                                                                                                                             ..\n",
      "[{'name': 'state-layer overlay', 'type': 'INSTANCE', 'width': 360.0, 'height': 87.99999237060547, 'fills': [{'color': {'r': 1.0, 'g': 1.0, 'b': 1.0, 'a': 1.0}}], 'strokes': [], 'effects': [], 'children': []}, {'name': 'state-layer', 'type': 'FRAME', 'width': 360.0, 'height': 64.0, 'fills': [], 'strokes': [], 'effects': [], 'layout': {'mode': 'HORIZONTAL', 'alignment': {'primaryAxis': '', 'counterAxis': ''}, 'sizing': {'primaryAxis': 'FIXED', 'counterAxis': ''}, 'padding': {'left': 16.0, 'right': 24.0, 'top': 12.0, 'bottom': 12.0}, 'itemSpacing': 16.0}, 'children': [{'name': 'Content', 'type': 'FRAME', 'width': 320.0, 'height': 40.0, 'fills': [], 'strokes': [], 'effects': [], 'layout': {'mode': 'VERTICAL', 'alignment': {'primaryAxis': '', 'counterAxis': ''}, 'sizing': {'primaryAxis': '', 'counterAxis': 'FIXED'}, 'padding': {'left': 0, 'right': 0, 'top': 0, 'bottom': 0}, 'itemSpacing': 0}, 'children': [{'name': 'Overline', 'type': 'TEXT', 'width': 320.0, 'height': 16.0, 'fills': [{'color': {'r': 0.2862745225429535, 'g': 0.2705882489681244, 'b': 0.30980393290519714, 'a': 1.0}}], 'strokes': [], 'effects': [], 'fontFamily': 'Roboto', 'fontWeight': 500, 'fontSize': 12.0, 'characters': 'Overline', 'textColor': {'r': 0.2862745225429535, 'g': 0.2705882489681244, 'b': 0.30980393290519714, 'a': 1.0}}, {'name': 'Headline', 'type': 'TEXT', 'width': 320.0, 'height': 24.0, 'fills': [{'color': {'r': 0.11372549086809158, 'g': 0.10588235408067703, 'b': 0.125490203499794, 'a': 1.0}}], 'strokes': [], 'effects': [], 'fontFamily': 'Roboto', 'fontWeight': 400, 'fontSize': 16.0, 'characters': 'List item', 'textColor': {'r': 0.11372549086809158, 'g': 0.10588235408067703, 'b': 0.125490203499794, 'a': 1.0}}, {'name': 'Supporting text', 'type': 'TEXT', 'width': 320.0, 'height': 40.0, 'fills': [{'color': {'r': 0.2862745225429535, 'g': 0.2705882489681244, 'b': 0.30980393290519714, 'a': 1.0}}], 'strokes': [], 'effects': [], 'fontFamily': 'Roboto', 'fontWeight': 400, 'fontSize': 14.0, 'characters': 'Supporting line text lorem ipsum dolor sit amet, consectetur.', 'textColor': {'r': 0.2862745225429535, 'g': 0.2705882489681244, 'b': 0.30980393290519714, 'a': 1.0}}]}, {'name': 'Trailing supporting text', 'type': 'TEXT', 'width': 27.0, 'height': 16.0, 'fills': [{'color': {'r': 0.2862745225429535, 'g': 0.2705882489681244, 'b': 0.30980393290519714, 'a': 1.0}}], 'strokes': [], 'effects': [], 'fontFamily': 'Roboto', 'fontWeight': 500, 'fontSize': 11.0, 'characters': '100+', 'textColor': {'r': 0.2862745225429535, 'g': 0.2705882489681244, 'b': 0.30980393290519714, 'a': 1.0}}]}, {'name': 'Divider', 'type': 'INSTANCE', 'width': 360.0, 'height': 3.1472199225390796e-05, 'fills': [], 'strokes': [], 'effects': [], 'layout': {'mode': 'VERTICAL', 'alignment': {'primaryAxis': 'CENTER', 'counterAxis': ''}, 'sizing': {'primaryAxis': '', 'counterAxis': 'FIXED'}, 'padding': {'left': 0, 'right': 0, 'top': 0, 'bottom': 0}, 'itemSpacing': 0}, 'children': [{'name': 'Divider', 'type': 'LINE', 'width': 360.0, 'height': 0.0, 'fills': [], 'strokes': [{'color': {'r': 0.7921568751335144, 'g': 0.7686274647712708, 'b': 0.8156862854957581, 'a': 1.0}, 'weight': 1.0}], 'effects': []}]}]                                                                                                                                                                                                                                                                                                                                                                                                                                                                                                                                                                                                                                                                                                                                                                                                                                                                                                                                                                                                                                                                                                                                                                                                                                                                                                                                                                                                                                                                                                                                                                                                                                                                                                                                                                                                                                                                                        1\n",
      "[{'name': 'state-layer overlay', 'type': 'INSTANCE', 'width': 360.0, 'height': 87.99998474121094, 'fills': [{'color': {'r': 1.0, 'g': 1.0, 'b': 1.0, 'a': 1.0}}], 'strokes': [], 'effects': [], 'children': []}, {'name': 'state-layer', 'type': 'FRAME', 'width': 360.0, 'height': 88.0, 'fills': [], 'strokes': [], 'effects': [], 'layout': {'mode': 'HORIZONTAL', 'alignment': {'primaryAxis': '', 'counterAxis': ''}, 'sizing': {'primaryAxis': 'FIXED', 'counterAxis': ''}, 'padding': {'left': 16.0, 'right': 24.0, 'top': 12.0, 'bottom': 12.0}, 'itemSpacing': 16.0}, 'children': [{'name': 'Content', 'type': 'FRAME', 'width': 260.0, 'height': 40.0, 'fills': [], 'strokes': [], 'effects': [], 'layout': {'mode': 'VERTICAL', 'alignment': {'primaryAxis': '', 'counterAxis': ''}, 'sizing': {'primaryAxis': '', 'counterAxis': 'FIXED'}, 'padding': {'left': 0, 'right': 0, 'top': 0, 'bottom': 0}, 'itemSpacing': 0}, 'children': [{'name': 'Overline', 'type': 'TEXT', 'width': 260.0, 'height': 16.0, 'fills': [{'color': {'r': 0.2862745225429535, 'g': 0.2705882489681244, 'b': 0.30980393290519714, 'a': 1.0}}], 'strokes': [], 'effects': [], 'fontFamily': 'Roboto', 'fontWeight': 500, 'fontSize': 12.0, 'characters': 'Overline', 'textColor': {'r': 0.2862745225429535, 'g': 0.2705882489681244, 'b': 0.30980393290519714, 'a': 1.0}}, {'name': 'Headline', 'type': 'TEXT', 'width': 260.0, 'height': 24.0, 'fills': [{'color': {'r': 0.11372549086809158, 'g': 0.10588235408067703, 'b': 0.125490203499794, 'a': 1.0}}], 'strokes': [], 'effects': [], 'fontFamily': 'Roboto', 'fontWeight': 400, 'fontSize': 16.0, 'characters': 'List item', 'textColor': {'r': 0.11372549086809158, 'g': 0.10588235408067703, 'b': 0.125490203499794, 'a': 1.0}}, {'name': 'Supporting text', 'type': 'TEXT', 'width': 280.0, 'height': 40.0, 'fills': [{'color': {'r': 0.2862745225429535, 'g': 0.2705882489681244, 'b': 0.30980393290519714, 'a': 1.0}}], 'strokes': [], 'effects': [], 'fontFamily': 'Roboto', 'fontWeight': 400, 'fontSize': 14.0, 'characters': 'Supporting line text lorem ipsum dolor sit amet, consectetur.', 'textColor': {'r': 0.2862745225429535, 'g': 0.2705882489681244, 'b': 0.30980393290519714, 'a': 1.0}}]}, {'name': 'Trailing element', 'type': 'FRAME', 'width': 44.0, 'height': 64.0, 'fills': [], 'strokes': [], 'effects': [], 'layout': {'mode': 'HORIZONTAL', 'alignment': {'primaryAxis': '', 'counterAxis': ''}, 'sizing': {'primaryAxis': '', 'counterAxis': 'FIXED'}, 'padding': {'left': 0, 'right': 0, 'top': 0, 'bottom': 0}, 'itemSpacing': 10.0}, 'children': [{'name': 'Trailing supporting text', 'type': 'TEXT', 'width': 27.0, 'height': 16.0, 'fills': [{'color': {'r': 0.2862745225429535, 'g': 0.2705882489681244, 'b': 0.30980393290519714, 'a': 1.0}}], 'strokes': [], 'effects': [], 'fontFamily': 'Roboto', 'fontWeight': 500, 'fontSize': 11.0, 'characters': '100+', 'textColor': {'r': 0.2862745225429535, 'g': 0.2705882489681244, 'b': 0.30980393290519714, 'a': 1.0}}, {'name': 'Checkboxes', 'type': 'INSTANCE', 'width': 44.0, 'height': 48.0, 'fills': [{'color': {'r': 1.0, 'g': 1.0, 'b': 1.0, 'a': 1.0}}], 'strokes': [], 'effects': [], 'layout': {'mode': 'VERTICAL', 'alignment': {'primaryAxis': 'CENTER', 'counterAxis': 'CENTER'}, 'sizing': {'primaryAxis': '', 'counterAxis': ''}, 'padding': {'left': 0, 'right': 4.0, 'top': 4.0, 'bottom': 4.0}, 'itemSpacing': 0}, 'children': [{'name': 'state-layer', 'type': 'FRAME', 'width': 40.0, 'height': 40.0, 'fills': [], 'strokes': [], 'effects': [], 'layout': {'mode': 'HORIZONTAL', 'alignment': {'primaryAxis': 'CENTER', 'counterAxis': 'CENTER'}, 'sizing': {'primaryAxis': '', 'counterAxis': ''}, 'padding': {'left': 11.0, 'right': 11.0, 'top': 11.0, 'bottom': 11.0}, 'itemSpacing': 0}, 'children': [{'name': 'container', 'type': 'RECTANGLE', 'width': 18.0, 'height': 18.0, 'fills': [{'color': {'r': 0.40392157435417175, 'g': 0.3137255012989044, 'b': 0.6431372761726379, 'a': 1.0}}], 'strokes': [], 'effects': []}, {'name': 'Icons/check_small', 'type': 'INSTANCE', 'width': 24.0, 'height': 24.0, 'fills': [], 'strokes': [], 'effects': [], 'children': [{'name': 'icon', 'type': 'VECTOR', 'width': 12.000001907348633, 'height': 9.40000057220459, 'fills': [{'color': {'r': 1.0, 'g': 1.0, 'b': 1.0, 'a': 1.0}}], 'strokes': [], 'effects': [], 'iconWidth': 12.000001907348633, 'iconHeight': 9.40000057220459, 'iconColor': {'r': 1.0, 'g': 1.0, 'b': 1.0, 'a': 1.0}}]}]}]}]}]}, {'name': 'Divider', 'type': 'INSTANCE', 'width': 360.0, 'height': 3.1472199225390796e-05, 'fills': [], 'strokes': [], 'effects': [], 'layout': {'mode': 'VERTICAL', 'alignment': {'primaryAxis': 'CENTER', 'counterAxis': ''}, 'sizing': {'primaryAxis': '', 'counterAxis': 'FIXED'}, 'padding': {'left': 0, 'right': 0, 'top': 0, 'bottom': 0}, 'itemSpacing': 0}, 'children': [{'name': 'Divider', 'type': 'LINE', 'width': 360.0, 'height': 0.0, 'fills': [], 'strokes': [{'color': {'r': 0.7921568751335144, 'g': 0.7686274647712708, 'b': 0.8156862854957581, 'a': 1.0}, 'weight': 1.0}], 'effects': []}]}]                 1\n",
      "[{'name': 'state-layer overlay', 'type': 'INSTANCE', 'width': 360.0, 'height': 87.99998474121094, 'fills': [{'color': {'r': 1.0, 'g': 1.0, 'b': 1.0, 'a': 1.0}}], 'strokes': [], 'effects': [], 'children': []}, {'name': 'state-layer', 'type': 'FRAME', 'width': 360.0, 'height': 88.0, 'fills': [], 'strokes': [], 'effects': [], 'layout': {'mode': 'HORIZONTAL', 'alignment': {'primaryAxis': '', 'counterAxis': ''}, 'sizing': {'primaryAxis': 'FIXED', 'counterAxis': ''}, 'padding': {'left': 16.0, 'right': 24.0, 'top': 12.0, 'bottom': 12.0}, 'itemSpacing': 16.0}, 'children': [{'name': 'Content', 'type': 'FRAME', 'width': 280.0, 'height': 40.0, 'fills': [], 'strokes': [], 'effects': [], 'layout': {'mode': 'VERTICAL', 'alignment': {'primaryAxis': '', 'counterAxis': ''}, 'sizing': {'primaryAxis': '', 'counterAxis': 'FIXED'}, 'padding': {'left': 0, 'right': 0, 'top': 0, 'bottom': 0}, 'itemSpacing': 0}, 'children': [{'name': 'Overline', 'type': 'TEXT', 'width': 280.0, 'height': 16.0, 'fills': [{'color': {'r': 0.2862745225429535, 'g': 0.2705882489681244, 'b': 0.30980393290519714, 'a': 1.0}}], 'strokes': [], 'effects': [], 'fontFamily': 'Roboto', 'fontWeight': 500, 'fontSize': 12.0, 'characters': 'Overline', 'textColor': {'r': 0.2862745225429535, 'g': 0.2705882489681244, 'b': 0.30980393290519714, 'a': 1.0}}, {'name': 'Headline', 'type': 'TEXT', 'width': 280.0, 'height': 24.0, 'fills': [{'color': {'r': 0.11372549086809158, 'g': 0.10588235408067703, 'b': 0.125490203499794, 'a': 1.0}}], 'strokes': [], 'effects': [], 'fontFamily': 'Roboto', 'fontWeight': 400, 'fontSize': 16.0, 'characters': 'List item', 'textColor': {'r': 0.11372549086809158, 'g': 0.10588235408067703, 'b': 0.125490203499794, 'a': 1.0}}, {'name': 'Supporting text', 'type': 'TEXT', 'width': 280.0, 'height': 40.0, 'fills': [{'color': {'r': 0.2862745225429535, 'g': 0.2705882489681244, 'b': 0.30980393290519714, 'a': 1.0}}], 'strokes': [], 'effects': [], 'fontFamily': 'Roboto', 'fontWeight': 400, 'fontSize': 14.0, 'characters': 'Supporting line text lorem ipsum dolor sit amet, consectetur.', 'textColor': {'r': 0.2862745225429535, 'g': 0.2705882489681244, 'b': 0.30980393290519714, 'a': 1.0}}]}, {'name': 'Trailing element', 'type': 'FRAME', 'width': 24.0, 'height': 64.0, 'fills': [], 'strokes': [], 'effects': [], 'layout': {'mode': 'HORIZONTAL', 'alignment': {'primaryAxis': '', 'counterAxis': ''}, 'sizing': {'primaryAxis': '', 'counterAxis': 'FIXED'}, 'padding': {'left': 0, 'right': 0, 'top': 0, 'bottom': 0}, 'itemSpacing': 10.0}, 'children': [{'name': 'Trailing supporting text', 'type': 'TEXT', 'width': 27.0, 'height': 16.0, 'fills': [{'color': {'r': 0.2862745225429535, 'g': 0.2705882489681244, 'b': 0.30980393290519714, 'a': 1.0}}], 'strokes': [], 'effects': [], 'fontFamily': 'Roboto', 'fontWeight': 500, 'fontSize': 11.0, 'characters': '100+', 'textColor': {'r': 0.2862745225429535, 'g': 0.2705882489681244, 'b': 0.30980393290519714, 'a': 1.0}}, {'name': 'Icons/arrow_right_24px', 'type': 'INSTANCE', 'width': 24.0, 'height': 24.0, 'fills': [], 'strokes': [], 'effects': [], 'children': [{'name': 'icon', 'type': 'VECTOR', 'width': 5.0, 'height': 10.0, 'fills': [{'color': {'r': 0.2862745225429535, 'g': 0.2705882489681244, 'b': 0.30980393290519714, 'a': 1.0}}], 'strokes': [], 'effects': [], 'iconWidth': 5.0, 'iconHeight': 10.0, 'iconColor': {'r': 0.2862745225429535, 'g': 0.2705882489681244, 'b': 0.30980393290519714, 'a': 1.0}}]}]}]}, {'name': 'Divider', 'type': 'INSTANCE', 'width': 360.0, 'height': 3.1472199225390796e-05, 'fills': [], 'strokes': [], 'effects': [], 'layout': {'mode': 'VERTICAL', 'alignment': {'primaryAxis': 'CENTER', 'counterAxis': ''}, 'sizing': {'primaryAxis': '', 'counterAxis': 'FIXED'}, 'padding': {'left': 0, 'right': 0, 'top': 0, 'bottom': 0}, 'itemSpacing': 0}, 'children': [{'name': 'Divider', 'type': 'LINE', 'width': 360.0, 'height': 0.0, 'fills': [], 'strokes': [{'color': {'r': 0.7921568751335144, 'g': 0.7686274647712708, 'b': 0.8156862854957581, 'a': 1.0}, 'weight': 1.0}], 'effects': []}]}]                                                                                                                                                                                                                                                                                                                                                                                                                                                                                                                                                                                                                                                                                                                                                                                                                                                                                                                                                                                                          1\n",
      "[{'name': 'state-layer overlay', 'type': 'INSTANCE', 'width': 360.0, 'height': 87.99998474121094, 'fills': [{'color': {'r': 1.0, 'g': 1.0, 'b': 1.0, 'a': 1.0}}], 'strokes': [], 'effects': [], 'children': []}, {'name': 'state-layer', 'type': 'FRAME', 'width': 360.0, 'height': 88.0, 'fills': [], 'strokes': [], 'effects': [], 'layout': {'mode': 'HORIZONTAL', 'alignment': {'primaryAxis': '', 'counterAxis': ''}, 'sizing': {'primaryAxis': 'FIXED', 'counterAxis': ''}, 'padding': {'left': 16.0, 'right': 24.0, 'top': 12.0, 'bottom': 12.0}, 'itemSpacing': 16.0}, 'children': [{'name': 'Content', 'type': 'FRAME', 'width': 252.0, 'height': 40.0, 'fills': [], 'strokes': [], 'effects': [], 'layout': {'mode': 'VERTICAL', 'alignment': {'primaryAxis': 'CENTER', 'counterAxis': ''}, 'sizing': {'primaryAxis': '', 'counterAxis': 'FIXED'}, 'padding': {'left': 0, 'right': 0, 'top': 0, 'bottom': 0}, 'itemSpacing': 0}, 'children': [{'name': 'Overline', 'type': 'TEXT', 'width': 252.0, 'height': 16.0, 'fills': [{'color': {'r': 0.2862745225429535, 'g': 0.2705882489681244, 'b': 0.30980393290519714, 'a': 1.0}}], 'strokes': [], 'effects': [], 'fontFamily': 'Roboto', 'fontWeight': 500, 'fontSize': 12.0, 'characters': 'Overline', 'textColor': {'r': 0.2862745225429535, 'g': 0.2705882489681244, 'b': 0.30980393290519714, 'a': 1.0}}, {'name': 'Headline', 'type': 'TEXT', 'width': 252.0, 'height': 24.0, 'fills': [{'color': {'r': 0.11372549086809158, 'g': 0.10588235408067703, 'b': 0.125490203499794, 'a': 1.0}}], 'strokes': [], 'effects': [], 'fontFamily': 'Roboto', 'fontWeight': 400, 'fontSize': 16.0, 'characters': 'List item', 'textColor': {'r': 0.11372549086809158, 'g': 0.10588235408067703, 'b': 0.125490203499794, 'a': 1.0}}, {'name': 'Supporting text', 'type': 'TEXT', 'width': 252.0, 'height': 40.0, 'fills': [{'color': {'r': 0.2862745225429535, 'g': 0.2705882489681244, 'b': 0.30980393290519714, 'a': 1.0}}], 'strokes': [], 'effects': [], 'fontFamily': 'Roboto', 'fontWeight': 400, 'fontSize': 14.0, 'characters': 'Supporting line text lorem ipsum dolor sit amet, consectetur.', 'textColor': {'r': 0.2862745225429535, 'g': 0.2705882489681244, 'b': 0.30980393290519714, 'a': 1.0}}]}, {'name': 'Trailing element', 'type': 'FRAME', 'width': 52.0, 'height': 64.0, 'fills': [], 'strokes': [], 'effects': [], 'layout': {'mode': 'HORIZONTAL', 'alignment': {'primaryAxis': '', 'counterAxis': ''}, 'sizing': {'primaryAxis': '', 'counterAxis': 'FIXED'}, 'padding': {'left': 0, 'right': 0, 'top': 0, 'bottom': 0}, 'itemSpacing': 10.0}, 'children': [{'name': 'Trailing supporting text', 'type': 'TEXT', 'width': 27.0, 'height': 16.0, 'fills': [{'color': {'r': 0.2862745225429535, 'g': 0.2705882489681244, 'b': 0.30980393290519714, 'a': 1.0}}], 'strokes': [], 'effects': [], 'fontFamily': 'Roboto', 'fontWeight': 500, 'fontSize': 11.0, 'characters': '100+', 'textColor': {'r': 0.2862745225429535, 'g': 0.2705882489681244, 'b': 0.30980393290519714, 'a': 1.0}}, {'name': 'Switch', 'type': 'INSTANCE', 'width': 52.0, 'height': 32.0, 'fills': [], 'strokes': [], 'effects': [], 'children': [{'name': 'Track', 'type': 'RECTANGLE', 'width': 52.0, 'height': 32.0, 'fills': [{'color': {'r': 0.9019607901573181, 'g': 0.8784313797950745, 'b': 0.9137254953384399, 'a': 1.0}}], 'strokes': [{'color': {'r': 0.4745098054409027, 'g': 0.45490196347236633, 'b': 0.4941176474094391, 'a': 1.0}, 'weight': 2.0}], 'effects': []}, {'name': 'Handle container', 'type': 'FRAME', 'width': 48.0, 'height': 48.0, 'fills': [], 'strokes': [], 'effects': [], 'children': [{'name': 'Handle', 'type': 'RECTANGLE', 'width': 16.0, 'height': 16.0, 'fills': [{'color': {'r': 0.4745098054409027, 'g': 0.45490196347236633, 'b': 0.4941176474094391, 'a': 1.0}}], 'strokes': [], 'effects': []}]}]}]}]}, {'name': 'Divider', 'type': 'INSTANCE', 'width': 360.0, 'height': 3.1472199225390796e-05, 'fills': [], 'strokes': [], 'effects': [], 'layout': {'mode': 'VERTICAL', 'alignment': {'primaryAxis': 'CENTER', 'counterAxis': ''}, 'sizing': {'primaryAxis': '', 'counterAxis': 'FIXED'}, 'padding': {'left': 0, 'right': 0, 'top': 0, 'bottom': 0}, 'itemSpacing': 0}, 'children': [{'name': 'Divider', 'type': 'LINE', 'width': 360.0, 'height': 0.0, 'fills': [], 'strokes': [{'color': {'r': 0.7921568751335144, 'g': 0.7686274647712708, 'b': 0.8156862854957581, 'a': 1.0}, 'weight': 1.0}], 'effects': []}]}]                                                                                                                                                                                                                                                                                                                                                                                                                                                                                                                                                                                                                                                                                1\n",
      "[{'name': 'state-layer overlay', 'type': 'INSTANCE', 'width': 360.0, 'height': 56.0, 'fills': [{'color': {'r': 1.0, 'g': 1.0, 'b': 1.0, 'a': 1.0}}], 'strokes': [], 'effects': [], 'children': []}, {'name': 'state-layer', 'type': 'FRAME', 'width': 360.0, 'height': 56.0, 'fills': [], 'strokes': [], 'effects': [], 'layout': {'mode': 'HORIZONTAL', 'alignment': {'primaryAxis': '', 'counterAxis': 'CENTER'}, 'sizing': {'primaryAxis': 'FIXED', 'counterAxis': 'FIXED'}, 'padding': {'left': 16.0, 'right': 24.0, 'top': 8.0, 'bottom': 8.0}, 'itemSpacing': 16.0}, 'children': [{'name': 'Leading element', 'type': 'FRAME', 'width': 48.0, 'height': 48.0, 'fills': [], 'strokes': [], 'effects': [], 'layout': {'mode': 'HORIZONTAL', 'alignment': {'primaryAxis': 'CENTER', 'counterAxis': 'CENTER'}, 'sizing': {'primaryAxis': '', 'counterAxis': ''}, 'padding': {'left': 0, 'right': 0, 'top': 0, 'bottom': 0}, 'itemSpacing': 0}, 'children': [{'name': 'Checkboxes', 'type': 'INSTANCE', 'width': 48.0, 'height': 48.0, 'fills': [{'color': {'r': 1.0, 'g': 1.0, 'b': 1.0, 'a': 1.0}}], 'strokes': [], 'effects': [], 'layout': {'mode': 'VERTICAL', 'alignment': {'primaryAxis': 'CENTER', 'counterAxis': 'CENTER'}, 'sizing': {'primaryAxis': '', 'counterAxis': ''}, 'padding': {'left': 4.0, 'right': 4.0, 'top': 4.0, 'bottom': 4.0}, 'itemSpacing': 0}, 'children': [{'name': 'state-layer', 'type': 'FRAME', 'width': 40.0, 'height': 40.0, 'fills': [], 'strokes': [], 'effects': [], 'layout': {'mode': 'HORIZONTAL', 'alignment': {'primaryAxis': 'CENTER', 'counterAxis': 'CENTER'}, 'sizing': {'primaryAxis': '', 'counterAxis': ''}, 'padding': {'left': 11.0, 'right': 11.0, 'top': 11.0, 'bottom': 11.0}, 'itemSpacing': 0}, 'children': [{'name': 'container', 'type': 'RECTANGLE', 'width': 18.0, 'height': 18.0, 'fills': [{'color': {'r': 0.40392157435417175, 'g': 0.3137255012989044, 'b': 0.6431372761726379, 'a': 1.0}}], 'strokes': [], 'effects': []}, {'name': 'Icons/check_small', 'type': 'INSTANCE', 'width': 24.0, 'height': 24.0, 'fills': [], 'strokes': [], 'effects': [], 'children': [{'name': 'icon', 'type': 'VECTOR', 'width': 12.000001907348633, 'height': 9.40000057220459, 'fills': [{'color': {'r': 1.0, 'g': 1.0, 'b': 1.0, 'a': 1.0}}], 'strokes': [], 'effects': [], 'iconWidth': 12.000001907348633, 'iconHeight': 9.40000057220459, 'iconColor': {'r': 1.0, 'g': 1.0, 'b': 1.0, 'a': 1.0}}]}]}]}]}, {'name': 'Content', 'type': 'FRAME', 'width': 256.0, 'height': 40.0, 'fills': [], 'strokes': [], 'effects': [], 'layout': {'mode': 'VERTICAL', 'alignment': {'primaryAxis': 'CENTER', 'counterAxis': ''}, 'sizing': {'primaryAxis': 'FIXED', 'counterAxis': 'FIXED'}, 'padding': {'left': 0, 'right': 0, 'top': 0, 'bottom': 0}, 'itemSpacing': 0}, 'children': [{'name': 'Overline', 'type': 'TEXT', 'width': 280.0, 'height': 16.0, 'fills': [{'color': {'r': 0.2862745225429535, 'g': 0.2705882489681244, 'b': 0.30980393290519714, 'a': 1.0}}], 'strokes': [], 'effects': [], 'fontFamily': 'Roboto', 'fontWeight': 500, 'fontSize': 12.0, 'characters': 'Overline', 'textColor': {'r': 0.2862745225429535, 'g': 0.2705882489681244, 'b': 0.30980393290519714, 'a': 1.0}}, {'name': 'Headline', 'type': 'TEXT', 'width': 256.0, 'height': 24.0, 'fills': [{'color': {'r': 0.11372549086809158, 'g': 0.10588235408067703, 'b': 0.125490203499794, 'a': 1.0}}], 'strokes': [], 'effects': [], 'fontFamily': 'Roboto', 'fontWeight': 400, 'fontSize': 16.0, 'characters': 'List item', 'textColor': {'r': 0.11372549086809158, 'g': 0.10588235408067703, 'b': 0.125490203499794, 'a': 1.0}}, {'name': 'Supporting text', 'type': 'TEXT', 'width': 280.0, 'height': 40.0, 'fills': [{'color': {'r': 0.2862745225429535, 'g': 0.2705882489681244, 'b': 0.30980393290519714, 'a': 1.0}}], 'strokes': [], 'effects': [], 'fontFamily': 'Roboto', 'fontWeight': 400, 'fontSize': 14.0, 'characters': 'Supporting line text lorem ipsum dolor sit amet, consectetur.', 'textColor': {'r': 0.2862745225429535, 'g': 0.2705882489681244, 'b': 0.30980393290519714, 'a': 1.0}}]}, {'name': 'Trailing supporting text', 'type': 'TEXT', 'width': 27.0, 'height': 16.0, 'fills': [{'color': {'r': 0.2862745225429535, 'g': 0.2705882489681244, 'b': 0.30980393290519714, 'a': 1.0}}], 'strokes': [], 'effects': [], 'fontFamily': 'Roboto', 'fontWeight': 500, 'fontSize': 11.0, 'characters': '100+', 'textColor': {'r': 0.2862745225429535, 'g': 0.2705882489681244, 'b': 0.30980393290519714, 'a': 1.0}}]}, {'name': 'Divider', 'type': 'INSTANCE', 'width': 360.0, 'height': 3.1472199225390796e-05, 'fills': [], 'strokes': [], 'effects': [], 'layout': {'mode': 'VERTICAL', 'alignment': {'primaryAxis': 'CENTER', 'counterAxis': ''}, 'sizing': {'primaryAxis': '', 'counterAxis': 'FIXED'}, 'padding': {'left': 0, 'right': 0, 'top': 0, 'bottom': 0}, 'itemSpacing': 0}, 'children': [{'name': 'Divider', 'type': 'LINE', 'width': 360.0, 'height': 0.0, 'fills': [], 'strokes': [{'color': {'r': 0.7921568751335144, 'g': 0.7686274647712708, 'b': 0.8156862854957581, 'a': 1.0}, 'weight': 1.0}], 'effects': []}]}]     1\n",
      "Name: count, Length: 2385, dtype: int64\n",
      "\n",
      "Stats for categorical column: variant_details.State\n",
      "variant_details.State\n",
      "[Default]                 484\n",
      "[Disabled]                421\n",
      "[Hover]                   370\n",
      "[Pressed]                 249\n",
      "[Focused]                 155\n",
      "[Focus]                   151\n",
      "[Enabled]                 145\n",
      "[disabled]                133\n",
      "[hovered]                 110\n",
      "[enabled]                 110\n",
      "[focused]                 108\n",
      "[dragged]                  88\n",
      "[pressed]                  86\n",
      "[Active]                   80\n",
      "[Error]                    77\n",
      "[Selected]                 63\n",
      "[Rest]                     57\n",
      "[Normal]                   56\n",
      "[error]                    49\n",
      "[Selected (Toggle on)]     45\n",
      "[Typing]                   22\n",
      "[Success]                  19\n",
      "[Warning]                  18\n",
      "[Value Entered]            16\n",
      "[Placeholder]               8\n",
      "[Idle (Platter)]            8\n",
      "[Idle (No Platter)]         8\n",
      "[Disable]                   7\n",
      "[Right Focus]               6\n",
      "[Filled]                    6\n",
      "[Left Focus]                6\n",
      "[Focussed]                  5\n",
      "[Active (Split)]            5\n",
      "[Focus (Split)]             5\n",
      "[Hover (Split)]             5\n",
      "[Defaul]                    5\n",
      "[DefaultHiver]              4\n",
      "[Inactive]                  2\n",
      "[Disables]                  2\n",
      "[Press]                     2\n",
      "[Hovered]                   1\n",
      "[filled]                    1\n",
      "[focus]                     1\n",
      "[hover]                     1\n",
      "[default]                   1\n",
      "[Basic]                     1\n",
      "[Medium]                    1\n",
      "[small]                     1\n",
      "[Large]                     1\n",
      "Name: count, dtype: int64\n",
      "\n",
      "Stats for categorical column: variant_details.Size\n",
      "variant_details.Size\n",
      "[Large]          779\n",
      "[Small]          730\n",
      "[Medium]         515\n",
      "[sm]             140\n",
      "[md]             140\n",
      "[lg]             135\n",
      "[Default]        134\n",
      "[xl]             133\n",
      "[xs]              92\n",
      "[Block]           84\n",
      "[Extra Large]     62\n",
      "[MD]              61\n",
      "[SM]              58\n",
      "[small]           47\n",
      "[Regular]         15\n",
      "[2xl]              5\n",
      "[Extra small]      4\n",
      "[medium]           4\n",
      "[Button]           1\n",
      "[ButtoLarge]       1\n",
      "Name: count, dtype: int64\n",
      "\n",
      "Stats for categorical column: layout.mode\n",
      "layout.mode\n",
      "HORIZONTAL    3222\n",
      "VERTICAL      2138\n",
      "Name: count, dtype: int64\n",
      "\n",
      "Stats for categorical column: layout.alignment.primaryAxis\n",
      "layout.alignment.primaryAxis\n",
      "CENTER    3789\n",
      "          1571\n",
      "Name: count, dtype: int64\n",
      "\n",
      "Stats for categorical column: layout.alignment.counterAxis\n",
      "layout.alignment.counterAxis\n",
      "CENTER    4587\n",
      "           773\n",
      "Name: count, dtype: int64\n",
      "\n",
      "Stats for categorical column: layout.sizing.primaryAxis\n",
      "layout.sizing.primaryAxis\n",
      "         4352\n",
      "FIXED    1008\n",
      "Name: count, dtype: int64\n",
      "\n",
      "Stats for categorical column: layout.sizing.counterAxis\n",
      "layout.sizing.counterAxis\n",
      "         3518\n",
      "FIXED    1842\n",
      "Name: count, dtype: int64\n",
      "\n",
      "Stats for categorical column: variant_details.Mode\n",
      "variant_details.Mode\n",
      "[Light]    336\n",
      "[Dark]     248\n",
      "Name: count, dtype: int64\n",
      "\n",
      "Stats for categorical column: variant_details.Style\n",
      "variant_details.Style\n",
      "[outlined]               312\n",
      "[elevated]               192\n",
      "[filled]                 120\n",
      "[Outline]                110\n",
      "[Filled]                  92\n",
      "[Glass]                   88\n",
      "[Bezeled]                 72\n",
      "[Bezeled Gray]            72\n",
      "[Borderless]              72\n",
      "[Subtle]                  66\n",
      "[Transparent]             54\n",
      "[Primary]                 54\n",
      "[Secondary (Default)]     54\n",
      "[Flat]                    44\n",
      "[Text]                    20\n",
      "[Tonal]                   20\n",
      "[Outlined]                20\n",
      "[Elevated]                20\n",
      "[Capsule]                 15\n",
      "[Rounded Rect]            15\n",
      "[Outline accent]          12\n",
      "[Accent]                  12\n",
      "[White]                    3\n",
      "[Color]                    2\n",
      "[Black]                    1\n",
      "[White + Contrast]         1\n",
      "[Blue Background]          1\n",
      "[B&W Background]           1\n",
      "[Blue Text]                1\n",
      "[B&W Text]                 1\n",
      "[Button Style]             1\n",
      "[Link Style]               1\n",
      "Name: count, dtype: int64\n",
      "\n",
      "Stats for categorical column: variant_details.Show Icon\n",
      "variant_details.Show Icon\n",
      "[True]     50\n",
      "[False]    50\n",
      "Name: count, dtype: int64\n",
      "\n",
      "Stats for categorical column: variant_details.On material\n",
      "variant_details.On material\n",
      "[False]    144\n",
      "[True]     144\n",
      "Name: count, dtype: int64\n",
      "\n",
      "Stats for categorical column: variant_details.Label Type\n",
      "variant_details.Label Type\n",
      "[Symbol]           96\n",
      "[Symbol + Text]    96\n",
      "[Text]             96\n",
      "Name: count, dtype: int64\n",
      "\n",
      "Stats for categorical column: variant_details.Icon\n",
      "variant_details.Icon\n",
      "[True]        184\n",
      "[None]        153\n",
      "[Left]        122\n",
      "[Right]       122\n",
      "[False]        81\n",
      "[Center]       75\n",
      "[Leading]      30\n",
      "[Trailing]     30\n",
      "[Only]         25\n",
      "[Utility]       6\n",
      "[Standard]      6\n",
      "[Dot]           5\n",
      "Name: count, dtype: int64\n",
      "\n",
      "Stats for categorical column: variant_details.Color\n",
      "variant_details.Color\n",
      "[Primary]            20\n",
      "[Secondary White]    20\n",
      "[Tertiary]           20\n",
      "[Secondary Color]    20\n",
      "[Black]               3\n",
      "[White]               3\n",
      "Name: count, dtype: int64\n",
      "\n",
      "Stats for categorical column: variant_details.Type\n",
      "variant_details.Type\n",
      "[Outline]                195\n",
      "[Primary]                180\n",
      "[Fill]                   123\n",
      "[Default]                118\n",
      "[Ghost]                  115\n",
      "[Text]                   114\n",
      "[Dashed]                  90\n",
      "[Secondary]               75\n",
      "[Transparent]             36\n",
      "[Normal]                  32\n",
      "[Number]                  24\n",
      "[Password]                24\n",
      "[Icon]                    21\n",
      "[Search]                  18\n",
      "[Dropdown]                16\n",
      "[Icon dropdown]           16\n",
      "[Dropdown split]          14\n",
      "[Icon dropdown split]     14\n",
      "[Base]                    12\n",
      "[Destructive Outline]     12\n",
      "[Neutral]                 12\n",
      "[Brand]                   12\n",
      "[Brand Outline]           12\n",
      "[Destructive]             12\n",
      "[Inverse]                 12\n",
      "[Success]                 12\n",
      "[Sorting]                  7\n",
      "[Selected]                 6\n",
      "[Hover]                    6\n",
      "[Filled]                   5\n",
      "[Ellipsis]                 4\n",
      "[Trailing dropdown]        2\n",
      "[Leading text]             2\n",
      "[Leading dropdown]         2\n",
      "[Payment input]            2\n",
      "[Profile]                  2\n",
      "[Setting]                  2\n",
      "[Back Button]              2\n",
      "[With Text]                2\n",
      "[No Text]                  2\n",
      "[Lock]                     2\n",
      "Name: count, dtype: int64\n",
      "\n",
      "Stats for categorical column: variant_details.Content\n",
      "variant_details.Content\n",
      "[Basic]    288\n",
      "Name: count, dtype: int64\n",
      "\n",
      "Stats for categorical column: variant_details.Ghost\n",
      "variant_details.Ghost\n",
      "[False]    153\n",
      "[True]     135\n",
      "Name: count, dtype: int64\n",
      "\n",
      "Stats for categorical column: variant_details.Danger\n",
      "variant_details.Danger\n",
      "[True]     153\n",
      "[False]    135\n",
      "Name: count, dtype: int64\n",
      "\n",
      "Stats for categorical column: variant_details.Shape\n",
      "variant_details.Shape\n",
      "[Default]    189\n",
      "[Round]       99\n",
      "[Square]      20\n",
      "[Circle]      20\n",
      "Name: count, dtype: int64\n",
      "\n",
      "Stats for categorical column: variant_details.Layout\n",
      "variant_details.Layout\n",
      "[Text only]      90\n",
      "[Icon before]    90\n",
      "[Icon only]      90\n",
      "Name: count, dtype: int64\n",
      "\n",
      "Stats for categorical column: variant_details.Category\n",
      "variant_details.Category\n",
      "[Primary]     79\n",
      "[Tertiary]    40\n",
      "Name: count, dtype: int64\n",
      "\n",
      "Stats for categorical column: variant_details.Badge\n",
      "variant_details.Badge\n",
      "[False]    103\n",
      "[True]      16\n",
      "[Dot]        8\n",
      "[None]       8\n",
      "[Small]      8\n",
      "Name: count, dtype: int64\n",
      "\n",
      "Stats for categorical column: variant_details.style\n",
      "variant_details.style\n",
      "[ghost]    3\n",
      "[dim]      3\n",
      "[solid]    3\n",
      "Name: count, dtype: int64\n",
      "\n",
      "Stats for categorical column: variant_details.state\n",
      "variant_details.state\n",
      "[hover]       182\n",
      "[focus]       171\n",
      "[default]     153\n",
      "[rest]         63\n",
      "[press]        51\n",
      "[Default]      45\n",
      "[none]          8\n",
      "[active]        8\n",
      "[disabled]      3\n",
      "Name: count, dtype: int64\n",
      "\n",
      "Stats for categorical column: variant_details.type\n",
      "variant_details.type\n",
      "[info]        6\n",
      "[success]     6\n",
      "[warning]     6\n",
      "[critical]    6\n",
      "Name: count, dtype: int64\n",
      "\n",
      "Stats for categorical column: variant_details.size\n",
      "variant_details.size\n",
      "[small]    24\n",
      "Name: count, dtype: int64\n",
      "\n",
      "Stats for categorical column: variant_details.subtle\n",
      "variant_details.subtle\n",
      "[false]    12\n",
      "[true]     12\n",
      "Name: count, dtype: int64\n",
      "\n",
      "Stats for categorical column: variant_details.Provider\n",
      "variant_details.Provider\n",
      "[Apple]       2\n",
      "[Google]      2\n",
      "[Facebook]    2\n",
      "[Twitter]     2\n",
      "Name: count, dtype: int64\n",
      "\n",
      "Stats for categorical column: variant_details.Theme\n",
      "variant_details.Theme\n",
      "[Light]               126\n",
      "[Dark]                126\n",
      "[Brand]                36\n",
      "[Color with brand]     36\n",
      "[Color]                36\n",
      "Name: count, dtype: int64\n",
      "\n",
      "Stats for categorical column: variant_details.Icon Position\n",
      "variant_details.Icon Position\n",
      "[None]     72\n",
      "[Side]     72\n",
      "[Right]    54\n",
      "[Left]     54\n",
      "Name: count, dtype: int64\n",
      "\n",
      "Stats for categorical column: variant_details.Emphasis\n",
      "variant_details.Emphasis\n",
      "[Primary]      18\n",
      "[Secondary]    18\n",
      "[Tertiary]     18\n",
      "[Glass]        18\n",
      "[Ghost]        18\n",
      "Name: count, dtype: int64\n",
      "\n",
      "Stats for categorical column: variant_details.Active\n",
      "variant_details.Active\n",
      "[On]     6\n",
      "[Off]    6\n",
      "Name: count, dtype: int64\n",
      "\n",
      "Stats for categorical column: variant_details.Property 1\n",
      "variant_details.Property 1\n",
      "[type2]               2\n",
      "[default]             2\n",
      "[File]                2\n",
      "[Search]              2\n",
      "[Select]              2\n",
      "[Teaxtarea]           2\n",
      "[Default]             2\n",
      "[Active]              1\n",
      "[Inactive]            1\n",
      "[type1]               1\n",
      "[pressed]             1\n",
      "[type 1]              1\n",
      "[blocked]             1\n",
      "[selected]            1\n",
      "[Selected-2 Lines]    1\n",
      "[Default-2 Lines]     1\n",
      "[Selected]            1\n",
      "[normal]              1\n",
      "Name: count, dtype: int64\n",
      "\n",
      "Stats for categorical column: variant_details.color-theme\n",
      "variant_details.color-theme\n",
      "[light]    1\n",
      "[dark]     1\n",
      "Name: count, dtype: int64\n",
      "\n",
      "Stats for categorical column: variant_details.Flat buttons\n",
      "variant_details.Flat buttons\n",
      "[Big]       2\n",
      "[Medium]    2\n",
      "[Small]     2\n",
      "Name: count, dtype: int64\n",
      "\n",
      "Stats for categorical column: variant_details.NeuCircular Button\n",
      "variant_details.NeuCircular Button\n",
      "[Left]     2\n",
      "[Right]    2\n",
      "Name: count, dtype: int64\n",
      "\n",
      "Stats for categorical column: variant_details.appearance\n",
      "variant_details.appearance\n",
      "[subtle link]    54\n",
      "[subtle]         54\n",
      "[link]           54\n",
      "[primary]        36\n",
      "[default]        36\n",
      "[danger]         36\n",
      "[warning]        36\n",
      "Name: count, dtype: int64\n",
      "\n",
      "Stats for categorical column: variant_details.spacing\n",
      "variant_details.spacing\n",
      "[default]    126\n",
      "[compact]    126\n",
      "[none]        54\n",
      "Name: count, dtype: int64\n",
      "\n",
      "Stats for categorical column: variant_details.isSelected\n",
      "variant_details.isSelected\n",
      "[false]    254\n",
      "[true]      52\n",
      "Name: count, dtype: int64\n",
      "\n",
      "Stats for categorical column: variant_details.isDisabled\n",
      "variant_details.isDisabled\n",
      "[false]    255\n",
      "[true]      51\n",
      "Name: count, dtype: int64\n",
      "\n",
      "Stats for categorical column: variant_details.isLoading\n",
      "variant_details.isLoading\n",
      "[false]    204\n",
      "[true]     102\n",
      "Name: count, dtype: int64\n",
      "\n",
      "Stats for categorical column: variant_details.iconOnly\n",
      "variant_details.iconOnly\n",
      "[false]    204\n",
      "[true]     102\n",
      "Name: count, dtype: int64\n",
      "\n",
      "Stats for categorical column: variant_details.Size:\n",
      "variant_details.Size:\n",
      "[Small]     5\n",
      "[Medium]    5\n",
      "[Large]     5\n",
      "Name: count, dtype: int64\n",
      "\n",
      "Stats for categorical column: variant_details.Left Icon:\n",
      "variant_details.Left Icon:\n",
      "[OFF]    9\n",
      "[ON]     6\n",
      "Name: count, dtype: int64\n",
      "\n",
      "Stats for categorical column: variant_details.Right Icon:\n",
      "variant_details.Right Icon:\n",
      "[OFF]    9\n",
      "[ON]     6\n",
      "Name: count, dtype: int64\n",
      "\n",
      "Stats for categorical column: variant_details.Single Icon:\n",
      "variant_details.Single Icon:\n",
      "[OFF]    12\n",
      "[ON]      3\n",
      "Name: count, dtype: int64\n",
      "\n",
      "Stats for categorical column: variant_details.Position\n",
      "variant_details.Position\n",
      "[Single]    16\n",
      "[Last]      16\n",
      "[Middle]    16\n",
      "[First]     16\n",
      "Name: count, dtype: int64\n",
      "\n",
      "Stats for categorical column: variant_details.Width\n",
      "variant_details.Width\n",
      "[Inset]    32\n",
      "[Full]     32\n",
      "Name: count, dtype: int64\n",
      "\n",
      "Stats for categorical column: variant_details.Open\n",
      "variant_details.Open\n",
      "[True]     2\n",
      "[False]    2\n",
      "Name: count, dtype: int64\n",
      "\n",
      "Stats for categorical column: variant_details.Configuration\n",
      "variant_details.Configuration\n",
      "[label only]              152\n",
      "[label & leading icon]    128\n",
      "[label & avatar]           32\n",
      "[label & brand icon]       24\n",
      "[label & favicon]          24\n",
      "[label & icon]             24\n",
      "Name: count, dtype: int64\n",
      "\n",
      "Stats for categorical column: variant_details.Selected\n",
      "variant_details.Selected\n",
      "[true]     192\n",
      "[false]    192\n",
      "Name: count, dtype: int64\n",
      "\n",
      "Stats for categorical column: variant_details.Show closing icon\n",
      "variant_details.Show closing icon\n",
      "[true]     48\n",
      "[false]    48\n",
      "Name: count, dtype: int64\n",
      "\n",
      "Stats for categorical column: variant_details.Show trailing icon\n",
      "variant_details.Show trailing icon\n",
      "[true]     96\n",
      "[false]    96\n",
      "Name: count, dtype: int64\n",
      "\n",
      "Stats for categorical column: variant_details.Show icon\n",
      "variant_details.Show icon\n",
      "[true]     48\n",
      "[false]    48\n",
      "Name: count, dtype: int64\n",
      "\n",
      "Stats for categorical column: variant_details.Condition\n",
      "variant_details.Condition\n",
      "[3-line+]    248\n",
      "[2-line]     124\n",
      "[1-line]     104\n",
      "Name: count, dtype: int64\n",
      "\n",
      "Stats for categorical column: variant_details.Leading\n",
      "variant_details.Leading\n",
      "[Icon]            80\n",
      "[Monogram]        80\n",
      "[None]            80\n",
      "[Video]           70\n",
      "[Image]           70\n",
      "[Switch]          32\n",
      "[Radio Button]    32\n",
      "[Check Box]       32\n",
      "Name: count, dtype: int64\n",
      "\n",
      "Stats for categorical column: variant_details.Trailing\n",
      "variant_details.Trailing\n",
      "[Icon]            124\n",
      "[None]            124\n",
      "[Radio Button]     76\n",
      "[Switch]           76\n",
      "[Check Box]        76\n",
      "Name: count, dtype: int64\n",
      "\n",
      "Stats for categorical column: variant_details.Show overline\n",
      "variant_details.Show overline\n",
      "[False]    248\n",
      "[True]     228\n",
      "Name: count, dtype: int64\n",
      "\n",
      "Stats for categorical column: variant_details.Show supporting text\n",
      "variant_details.Show supporting text\n",
      "[False]    290\n",
      "[True]     186\n",
      "Name: count, dtype: int64\n",
      "\n",
      "Stats for categorical column: variant_details.Unknown\n",
      "variant_details.Unknown\n",
      "[Unknown]    14\n",
      "Name: count, dtype: int64\n",
      "\n",
      "Stats for categorical column: variant_details.Show avatar\n",
      "variant_details.Show avatar\n",
      "[True]     6\n",
      "[False]    6\n",
      "Name: count, dtype: int64\n",
      "\n",
      "Stats for categorical column: variant_details.Text configurations\n",
      "variant_details.Text configurations\n",
      "[placeholder-text]    80\n",
      "[label-text]          80\n",
      "[input-text]          80\n",
      "Name: count, dtype: int64\n",
      "\n",
      "Stats for categorical column: variant_details.Leading icon\n",
      "variant_details.Leading icon\n",
      "[true]     120\n",
      "[false]    120\n",
      "[False]     96\n",
      "[True]      66\n",
      "Name: count, dtype: int64\n",
      "\n",
      "Stats for categorical column: variant_details.Trailing icon\n",
      "variant_details.Trailing icon\n",
      "[False]    234\n",
      "[True]     168\n",
      "Name: count, dtype: int64\n",
      "\n",
      "Stats for categorical column: variant_details.Social\n",
      "variant_details.Social\n",
      "[Facebook]    18\n",
      "[Google]      18\n",
      "[Apple]       18\n",
      "[Figma]       18\n",
      "[Dribbble]    18\n",
      "[Twitter]     18\n",
      "Name: count, dtype: int64\n",
      "\n",
      "Stats for categorical column: variant_details.Supporting text\n",
      "variant_details.Supporting text\n",
      "[True]     54\n",
      "[False]    54\n",
      "Name: count, dtype: int64\n",
      "\n",
      "Stats for categorical column: variant_details.Label\n",
      "variant_details.Label\n",
      "[False]    65\n",
      "[True]     33\n",
      "Name: count, dtype: int64\n",
      "\n",
      "Stats for categorical column: variant_details.Hint text\n",
      "variant_details.Hint text\n",
      "[False]    14\n",
      "[True]     14\n",
      "Name: count, dtype: int64\n",
      "\n",
      "Stats for categorical column: variant_details.Destructive\n",
      "variant_details.Destructive\n",
      "[False]    22\n",
      "[True]     18\n",
      "Name: count, dtype: int64\n",
      "\n",
      "Stats for categorical column: variant_details.Padding Type\n"
     ]
    }
   ],
   "source": [
    "#display\n",
    "display_basic_statistics(df)"
   ]
  },
  {
   "cell_type": "code",
   "execution_count": null,
   "metadata": {
    "id": "9zCh-AJYR1YF"
   },
   "outputs": [],
   "source": [
    "def display_component_type_distribution(df):\n",
    "  \"\"\"\n",
    "  A method to plot the component type distribution\n",
    "\n",
    "  Parameters\n",
    "  df = data to plot the component type distribution\n",
    "  \"\"\"\n",
    "  print(\"Component type distribution:\")\n",
    "  component_count = df['component_name'].value_counts()\n",
    "  component_count.plot(kind='bar', title='Component type distribution')\n",
    "  plt.xlabel('Component type')\n",
    "  plt.ylabel('Count of components')\n",
    "  plt.show()"
   ]
  },
  {
   "cell_type": "code",
   "execution_count": null,
   "metadata": {
    "colab": {
     "base_uri": "https://localhost:8080/",
     "height": 555
    },
    "executionInfo": {
     "elapsed": 4,
     "status": "ok",
     "timestamp": 1718104519437,
     "user": {
      "displayName": "K.Ishani",
      "userId": "03791568905300336534"
     },
     "user_tz": -330
    },
    "id": "kfnEcO_AUC8i",
    "outputId": "8b3ae572-cd91-4e79-dd4d-9ad67d2465b2"
   },
   "outputs": [
    {
     "name": "stdout",
     "output_type": "stream",
     "text": [
      "Component type distribution:\n"
     ]
    },
    {
     "data": {
      "image/png": "[encoded data removed]",
      "text/plain": [
       "<Figure size 640x480 with 1 Axes>"
      ]
     },
     "metadata": {},
     "output_type": "display_data"
    }
   ],
   "source": [
    "#plot\n",
    "display_component_type_distribution(df)"
   ]
  },
  {
   "cell_type": "code",
   "execution_count": null,
   "metadata": {
    "id": "NktU_L2vSakv"
   },
   "outputs": [],
   "source": [
    "def analyze_auto_layout_usage(df):\n",
    "  \"\"\"\n",
    "  A method to analyze the auto-layout usage\n",
    "\n",
    "  Parameters\n",
    "  df = data to analyze the auto-layout usage\n",
    "  \"\"\"\n",
    "  auto_layout_count = df['layout.mode'].value_counts()\n",
    "  auto_layout_count.plot(kind='bar', title='Auto layout mode distribution')\n",
    "  plt.xlabel('Auto layout mode')\n",
    "  plt.ylabel('Count')\n",
    "  plt.show()"
   ]
  },
  {
   "cell_type": "code",
   "execution_count": null,
   "metadata": {
    "colab": {
     "base_uri": "https://localhost:8080/",
     "height": 548
    },
    "collapsed": true,
    "executionInfo": {
     "elapsed": 445,
     "status": "ok",
     "timestamp": 1718104540912,
     "user": {
      "displayName": "K.Ishani",
      "userId": "03791568905300336534"
     },
     "user_tz": -330
    },
    "id": "BiV_ZF4xVAyv",
    "outputId": "5981fd3c-afca-4903-d1bc-e48d20b86319"
   },
   "outputs": [
    {
     "data": {
      "image/png": "[encoded data removed]",
      "text/plain": [
       "<Figure size 640x480 with 1 Axes>"
      ]
     },
     "metadata": {},
     "output_type": "display_data"
    }
   ],
   "source": [
    "analyze_auto_layout_usage(df)"
   ]
  },
  {
   "cell_type": "code",
   "execution_count": null,
   "metadata": {
    "id": "MAJZz5-oU0gg"
   },
   "outputs": [],
   "source": [
    "def analyze_padding_in_auto_layouts(df):\n",
    "  \"\"\"\n",
    "  A method to analyze the padding in auto-layouts\n",
    "\n",
    "  Parameters\n",
    "  df = data to analyze the padding in auto-layouts\n",
    "  \"\"\"\n",
    "  print(\"Padding in auto layouts:\")\n",
    "  df[['layout.padding.left', 'layout.padding.right', 'layout.padding.top', 'layout.padding.bottom']].hist(bins=30, figsize=(10, 5))\n",
    "  plt.suptitle('Padding distribution in auto layouts')\n",
    "  plt.show()\n"
   ]
  },
  {
   "cell_type": "code",
   "execution_count": null,
   "metadata": {
    "colab": {
     "base_uri": "https://localhost:8080/",
     "height": 513
    },
    "executionInfo": {
     "elapsed": 1179,
     "status": "ok",
     "timestamp": 1718104573837,
     "user": {
      "displayName": "K.Ishani",
      "userId": "03791568905300336534"
     },
     "user_tz": -330
    },
    "id": "rY4r6k5HVDdk",
    "outputId": "6445380f-4cb5-4f20-949f-0ada1d56e689"
   },
   "outputs": [
    {
     "name": "stdout",
     "output_type": "stream",
     "text": [
      "Padding in auto layouts:\n"
     ]
    },
    {
     "data": {
      "image/png": "[encoded data removed]",
      "text/plain": [
       "<Figure size 1000x500 with 4 Axes>"
      ]
     },
     "metadata": {},
     "output_type": "display_data"
    }
   ],
   "source": [
    "analyze_padding_in_auto_layouts(df)"
   ]
  },
  {
   "cell_type": "code",
   "execution_count": null,
   "metadata": {
    "id": "-38Iw-1ry_tj"
   },
   "outputs": [],
   "source": [
    "def plot_component_types_by_style(df):\n",
    "  \"\"\"\n",
    "  A method to plot the component types by style\n",
    "\n",
    "  Parameters\n",
    "  df = data to plot the component types by style\n",
    "  \"\"\"\n",
    "  component_style_count = df.groupby(['style', 'component_name']).size().unstack().fillna(0)\n",
    "  component_style_count.plot(kind='bar', stacked=True, figsize=(15, 7))\n",
    "  plt.title('Distribution of component types by style')\n",
    "  plt.xlabel('Style')\n",
    "  plt.ylabel('Count')\n",
    "  plt.legend(title='Component Type')\n",
    "  plt.show()"
   ]
  },
  {
   "cell_type": "code",
   "execution_count": null,
   "metadata": {
    "colab": {
     "base_uri": "https://localhost:8080/",
     "height": 541
    },
    "executionInfo": {
     "elapsed": 657,
     "status": "ok",
     "timestamp": 1718104584890,
     "user": {
      "displayName": "K.Ishani",
      "userId": "03791568905300336534"
     },
     "user_tz": -330
    },
    "id": "y3pvka1zzCh-",
    "outputId": "ecccc18e-8bb3-4765-fb01-6897154cab15"
   },
   "outputs": [
    {
     "data": {
      "image/png": "[encoded data removed]",
      "text/plain": [
       "<Figure size 1500x700 with 1 Axes>"
      ]
     },
     "metadata": {},
     "output_type": "display_data"
    }
   ],
   "source": [
    "plot_component_types_by_style(df)"
   ]
  },
  {
   "cell_type": "code",
   "execution_count": null,
   "metadata": {
    "id": "s4MDJYf1zC1Z"
   },
   "outputs": [],
   "source": [
    "def plot_padding_distribution(df):\n",
    "  \"\"\"\n",
    "  A method to plot the padding distribution\n",
    "\n",
    "  Parameters\n",
    "  df = data to plot the padding distribution\n",
    "  \"\"\"\n",
    "  df[['layout.padding.left', 'layout.padding.right', 'layout.padding.top', 'layout.padding.bottom']].hist(bins=30, figsize=(10, 10))\n",
    "  plt.suptitle('Distribution of padding in components')\n",
    "  plt.show()"
   ]
  },
  {
   "cell_type": "code",
   "execution_count": null,
   "metadata": {
    "colab": {
     "base_uri": "https://localhost:8080/",
     "height": 930
    },
    "executionInfo": {
     "elapsed": 1243,
     "status": "ok",
     "timestamp": 1718104601477,
     "user": {
      "displayName": "K.Ishani",
      "userId": "03791568905300336534"
     },
     "user_tz": -330
    },
    "id": "KARafzuXzXmA",
    "outputId": "13e5328e-8f31-4c08-b889-16912b74f343"
   },
   "outputs": [
    {
     "data": {
      "image/png": "[encoded data removed]",
      "text/plain": [
       "<Figure size 1000x1000 with 4 Axes>"
      ]
     },
     "metadata": {},
     "output_type": "display_data"
    }
   ],
   "source": [
    "plot_padding_distribution(df)"
   ]
  },
  {
   "cell_type": "code",
   "execution_count": null,
   "metadata": {
    "id": "jNzJ3lT4zJ7i"
   },
   "outputs": [],
   "source": [
    "def plot_correlation_matrix(df):\n",
    "    numeric_df = df.select_dtypes(include=['number']).dropna()\n",
    "    correlation_matrix = numeric_df.corr()\n",
    "    plt.figure(figsize=(10, 8))\n",
    "    sns.heatmap(correlation_matrix, annot=True, cmap='coolwarm', vmin=-1, vmax=1)\n",
    "    plt.title('Correlation Matrix for numeric features')\n",
    "    plt.show()"
   ]
  },
  {
   "cell_type": "code",
   "execution_count": null,
   "metadata": {
    "colab": {
     "base_uri": "https://localhost:8080/",
     "height": 844
    },
    "collapsed": true,
    "executionInfo": {
     "elapsed": 2434,
     "status": "ok",
     "timestamp": 1718104623915,
     "user": {
      "displayName": "K.Ishani",
      "userId": "03791568905300336534"
     },
     "user_tz": -330
    },
    "id": "kzjUhVgKz-Km",
    "outputId": "add1e393-4976-4565-a82b-5759d8b6eaa9"
   },
   "outputs": [
    {
     "data": {
      "image/png": "[encoded data removed]",
      "text/plain": [
       "<Figure size 1000x800 with 2 Axes>"
      ]
     },
     "metadata": {},
     "output_type": "display_data"
    }
   ],
   "source": [
    "plot_correlation_matrix(df)"
   ]
  },
  {
   "cell_type": "code",
   "execution_count": null,
   "metadata": {
    "id": "fmSIRLlgz-Xe"
   },
   "outputs": [],
   "source": [
    "def unique_component_count_by_type(df):\n",
    "  \"\"\"\n",
    "  A method to print the unique component types\n",
    "\n",
    "  Parameters\n",
    "  df = data to print the unique component types\n",
    "  \"\"\"\n",
    "  unique_counts = df['component_name'].nunique()\n",
    "  print(f'Unique Component Types: {unique_counts}')"
   ]
  },
  {
   "cell_type": "code",
   "execution_count": null,
   "metadata": {
    "colab": {
     "base_uri": "https://localhost:8080/"
    },
    "executionInfo": {
     "elapsed": 1,
     "status": "ok",
     "timestamp": 1718104629986,
     "user": {
      "displayName": "K.Ishani",
      "userId": "03791568905300336534"
     },
     "user_tz": -330
    },
    "id": "elyZLl0Mz_kv",
    "outputId": "11dc4476-7115-4c40-f913-04f01345c8c1"
   },
   "outputs": [
    {
     "name": "stdout",
     "output_type": "stream",
     "text": [
      "Unique Component Types: 6\n"
     ]
    }
   ],
   "source": [
    "unique_component_count_by_type(df)"
   ]
  },
  {
   "cell_type": "code",
   "execution_count": null,
   "metadata": {
    "id": "n1zdUgsQ0sSe"
   },
   "outputs": [],
   "source": [
    "def most_common_colors(df, top_n=10):\n",
    "  \"\"\"\n",
    "  A method to print the most common colors\n",
    "\n",
    "  Parameters\n",
    "  df = data to print the most common colors\n",
    "  top_n = number of colors to print\n",
    "  \"\"\"\n",
    "  colors = df['fills'].explode().dropna().apply(lambda x: x.get('color') if isinstance(x, dict) else None).dropna()\n",
    "  color_counts = colors.value_counts().head(top_n)\n",
    "  print(f'Top {top_n} Most Common Colors:')\n",
    "  print(color_counts)\n"
   ]
  },
  {
   "cell_type": "code",
   "execution_count": null,
   "metadata": {
    "colab": {
     "base_uri": "https://localhost:8080/"
    },
    "executionInfo": {
     "elapsed": 2,
     "status": "ok",
     "timestamp": 1718104635299,
     "user": {
      "displayName": "K.Ishani",
      "userId": "03791568905300336534"
     },
     "user_tz": -330
    },
    "id": "2iU0EUFu0yVS",
    "outputId": "0b7a9229-2c2e-4b13-b527-fbc3e521f0d3"
   },
   "outputs": [
    {
     "name": "stdout",
     "output_type": "stream",
     "text": [
      "Top 10 Most Common Colors:\n",
      "fills\n",
      "{'r': 1.0, 'g': 1.0, 'b': 1.0, 'a': 1.0}                                                    1086\n",
      "{'r': 0.0, 'g': 0.0, 'b': 0.0, 'a': 1.0}                                                     496\n",
      "{'r': 0.9960784316062927, 'g': 0.9686274528503418, 'b': 1.0, 'a': 1.0}                       300\n",
      "{'r': 0.0784313753247261, 'g': 0.07058823853731155, 'b': 0.0941176488995552, 'a': 1.0}       299\n",
      "{'r': 0.30588236451148987, 'g': 0.27450981736183167, 'b': 0.7058823704719543, 'a': 1.0}      120\n",
      "{'r': 0.4627451002597809, 'g': 0.4627451002597809, 'b': 0.501960813999176, 'a': 1.0}         117\n",
      "{'r': 0.9098039269447327, 'g': 0.8705882430076599, 'b': 0.9725490212440491, 'a': 1.0}         92\n",
      "{'r': 0.29019609093666077, 'g': 0.2666666805744171, 'b': 0.3450980484485626, 'a': 1.0}        92\n",
      "{'r': 0.9686274528503418, 'g': 0.9490196108818054, 'b': 0.9803921580314636, 'a': 1.0}         58\n",
      "{'r': 0.03529411926865578, 'g': 0.11764705926179886, 'b': 0.25882354378700256, 'a': 1.0}      56\n",
      "Name: count, dtype: int64\n"
     ]
    }
   ],
   "source": [
    "most_common_colors(df)"
   ]
  },
  {
   "cell_type": "code",
   "execution_count": null,
   "metadata": {
    "id": "kLc_B0Uk001N"
   },
   "outputs": [],
   "source": [
    "def average_padding_by_component(df):\n",
    "  \"\"\"\n",
    "  A method to print the average padding by component type\n",
    "\n",
    "  Parameters\n",
    "  df = data to print the average padding by component type\n",
    "  \"\"\"\n",
    "  padding_df = df[['component_name', 'layout.padding.left', 'layout.padding.right', 'layout.padding.top', 'layout.padding.bottom']]\n",
    "  average_padding = padding_df.groupby('component_name').mean()\n",
    "  print('Average Padding by component type:')\n",
    "  print(average_padding)\n"
   ]
  },
  {
   "cell_type": "code",
   "execution_count": null,
   "metadata": {
    "colab": {
     "base_uri": "https://localhost:8080/"
    },
    "executionInfo": {
     "elapsed": 517,
     "status": "ok",
     "timestamp": 1718104665269,
     "user": {
      "displayName": "K.Ishani",
      "userId": "03791568905300336534"
     },
     "user_tz": -330
    },
    "id": "uDIEkoM60-Xr",
    "outputId": "3eec639a-a5ae-4d8d-db6c-ef9309337eb7"
   },
   "outputs": [
    {
     "name": "stdout",
     "output_type": "stream",
     "text": [
      "Average Padding by component type:\n",
      "                layout.padding.left  layout.padding.right  layout.padding.top  \\\n",
      "component_name                                                                  \n",
      "Button                    11.324314             11.386052            4.774009   \n",
      "Label                      4.792699              4.959583            1.543677   \n",
      "icon-button                3.198174              3.204262            2.315373   \n",
      "input-field                4.544974              3.931217            0.989418   \n",
      "list-item                  0.000000              0.000000            0.000000   \n",
      "menu                      11.000000             10.944444            7.166667   \n",
      "\n",
      "                layout.padding.bottom  \n",
      "component_name                         \n",
      "Button                       4.774009  \n",
      "Label                        1.543677  \n",
      "icon-button                  2.321461  \n",
      "input-field                  0.989418  \n",
      "list-item                    0.000000  \n",
      "menu                         7.166667  \n"
     ]
    }
   ],
   "source": [
    "average_padding_by_component(df)"
   ]
  },
  {
   "cell_type": "code",
   "execution_count": null,
   "metadata": {
    "id": "NUj0YuUO1Qwg"
   },
   "outputs": [],
   "source": [
    "def most_common_effects(df, top_n=5):\n",
    "  \"\"\"\n",
    "  A method to print the most common effects\n",
    "\n",
    "  Parameters\n",
    "  df = data to print the most common effects\n",
    "  top_n = number of effects to print\n",
    "  \"\"\"\n",
    "  effects = df['effects'].explode().dropna().apply(lambda x: x.get('type') if isinstance(x, dict) else None).dropna()\n",
    "  effect_counts = effects.value_counts().head(top_n)\n",
    "  print(f'Top {top_n} Most Common Effects:')\n",
    "  print(effect_counts)"
   ]
  },
  {
   "cell_type": "code",
   "execution_count": null,
   "metadata": {
    "colab": {
     "base_uri": "https://localhost:8080/"
    },
    "executionInfo": {
     "elapsed": 1,
     "status": "ok",
     "timestamp": 1718104690443,
     "user": {
      "displayName": "K.Ishani",
      "userId": "03791568905300336534"
     },
     "user_tz": -330
    },
    "id": "SIe9YLzH1gKk",
    "outputId": "47bff27f-edf7-418b-f383-c9f15e0a2854"
   },
   "outputs": [
    {
     "name": "stdout",
     "output_type": "stream",
     "text": [
      "Top 5 Most Common Effects:\n",
      "effects\n",
      "DROP_SHADOW        1914\n",
      "BACKGROUND_BLUR     131\n",
      "INNER_SHADOW         44\n",
      "Name: count, dtype: int64\n"
     ]
    }
   ],
   "source": [
    "most_common_effects(df)"
   ]
  },
  {
   "cell_type": "markdown",
   "metadata": {
    "id": "U2Ktv5adhYPW"
   },
   "source": []
  },
  {
   "cell_type": "markdown",
   "metadata": {
    "id": "gSom75vcyFpl"
   },
   "source": [
    "## Nested extraction"
   ]
  },
  {
   "cell_type": "code",
   "execution_count": null,
   "metadata": {
    "id": "mflITNDN-fmU"
   },
   "outputs": [],
   "source": [
    "def extract_properties(node):\n",
    "  \"\"\"\n",
    "  A method to extract the properties of the component variants\n",
    "\n",
    "  Parameters\n",
    "  node = node to extract the properties from\n",
    "  \"\"\"\n",
    "\n",
    "  #incommon properties\n",
    "  properties = {\n",
    "    'name': node.get('name', ''),\n",
    "    'type': node.get('type', '')\n",
    "  }\n",
    "\n",
    "  #text\n",
    "  if node['type'] == 'TEXT':\n",
    "    text_style = node.get('style', {})\n",
    "    properties.update({\n",
    "      'fontFamily': text_style.get('fontFamily', ''),\n",
    "      'fontWeight': text_style.get('fontWeight', ''),\n",
    "      'fontSize': text_style.get('fontSize', ''),\n",
    "      'characters': node.get('characters', ''),\n",
    "      'textColor': next((fill.get('color', {}) for fill in node.get('fills', []) if fill.get('type') == 'SOLID'), {})\n",
    "    })\n",
    "\n",
    "  #for icons\n",
    "  elif node['type'] == 'VECTOR':\n",
    "    properties.update({\n",
    "      'iconWidth': node.get('absoluteBoundingBox', {}).get('width', 0),\n",
    "      'iconHeight': node.get('absoluteBoundingBox', {}).get('height', 0),\n",
    "      'iconColor': next((fill.get('color', {}) for fill in node.get('fills', []) if fill.get('type') == 'SOLID'), {})\n",
    "    })\n",
    "\n",
    "  #line\n",
    "  elif node['type'] == 'LINE':\n",
    "    properties.update({\n",
    "      'lineThickness': node.get('strokeWeight', 0),\n",
    "      'lineColor': next((stroke.get('color', {}) for stroke in node.get('strokes', []) if stroke.get('type') == 'SOLID'), {})\n",
    "    })\n",
    "\n",
    "  #rectangle\n",
    "  elif node['type'] == 'RECTANGLE':\n",
    "    properties.update({\n",
    "      'width': node.get('absoluteBoundingBox', {}).get('width', 0),\n",
    "      'height': node.get('absoluteBoundingBox', {}).get('height', 0),\n",
    "      'fillColor': next((fill.get('color', {}) for fill in node.get('fills', []) if fill.get('type') == 'SOLID'), {})\n",
    "    })\n",
    "\n",
    "  #frames, groups\n",
    "  elif node['type'] in ['FRAME', 'GROUP']:\n",
    "    properties.update({\n",
    "      'width': node.get('absoluteBoundingBox', {}).get('width', 0),\n",
    "      'height': node.get('absoluteBoundingBox', {}).get('height', 0),\n",
    "      'fills': [{'color': fill.get('color', {})} for fill in node.get('fills', []) if fill.get('type') == 'SOLID'],\n",
    "      'strokes': [{'color': stroke.get('color', {}), 'weight': node.get('strokeWeight', 0)} for stroke in node.get('strokes', []) if stroke.get('type') == 'SOLID'],\n",
    "      'effects': node.get('effects', []),\n",
    "      'borderRadius': node.get('cornerRadius', 0),\n",
    "      'strokeWeight': node.get('strokeWeight', 0),\n",
    "    })\n",
    "\n",
    "  #populate the children\n",
    "  if 'children' in node:\n",
    "    properties['children'] = [extract_properties(child) for child in node['children']]\n",
    "\n",
    "  return properties\n"
   ]
  },
  {
   "cell_type": "code",
   "execution_count": null,
   "metadata": {
    "id": "UsKjPIxU3CFs"
   },
   "outputs": [],
   "source": [
    "def process_variants(node, style, component_name, subtype):\n",
    "  \"\"\"\n",
    "  A method to process the variants and get properties\n",
    "\n",
    "  Parameters\n",
    "  node = node to process the variants from\n",
    "  style = style of the component\n",
    "  component_name = name of the component\n",
    "  subtype = subtype of the component\n",
    "  Return\n",
    "  variants = list of variants\n",
    "  \"\"\"\n",
    "  variants = []\n",
    "  #check if component\n",
    "  if node['type'] == 'COMPONENT_SET' or node['type'] == 'COMPONENT':\n",
    "    #get children\n",
    "    variant_nodes = node['children'] if node['type'] == 'COMPONENT_SET' else [node]\n",
    "    for child in variant_nodes:\n",
    "      #extract variant details\n",
    "      variant_details = extract_variant_name(child['name'])\n",
    "      #extract properties\n",
    "      variant_properties = extract_properties(child)\n",
    "      #order of extraction\n",
    "      output_variant_properties = {\n",
    "        \"style\": style,\n",
    "        \"component_name\": component_name,\n",
    "        \"subtype\": subtype,\n",
    "        \"variant_details\": variant_details,\n",
    "        **variant_properties\n",
    "      }\n",
    "      #append to variants\n",
    "        variants.append({\"variant_properties\": output_variant_properties})\n",
    "  return variants"
   ]
  },
  {
   "cell_type": "code",
   "execution_count": null,
   "metadata": {
    "id": "xRZSgdyT9rz2"
   },
   "outputs": [],
   "source": [
    "def output_data(file_data, component_types):\n",
    "  \"\"\"\n",
    "  A method to output the data\n",
    "\n",
    "  Parameters\n",
    "  file_data = data extracted from figma\n",
    "  component_types = list of component types to extract\n",
    "  Return\n",
    "  organized_data = list of variants\n",
    "  \"\"\"\n",
    "  organized_data = []\n",
    "  #canvas\n",
    "  for canvas in file_data.get(\"document\", {}).get(\"children\", []):\n",
    "    for node in canvas.get(\"children\", []):\n",
    "      #select component set data\n",
    "      if node[\"type\"] in [\"COMPONENT_SET\", \"COMPONENT\"]:\n",
    "        #extract component data\n",
    "        style, component_name, subtype = extract_componentset_name(node[\"name\"])\n",
    "        if component_name.lower() in component_types:\n",
    "          #process variants\n",
    "          variants = process_variants(node, style, component_name, subtype)\n",
    "          organized_data.extend(variants)\n",
    "  return organized_data"
   ]
  },
  {
   "cell_type": "code",
   "execution_count": null,
   "metadata": {
    "id": "veoDprl79twI"
   },
   "outputs": [],
   "source": [
    "def print_output(file_data, component_types):\n",
    "  \"\"\"\n",
    "  A method to print the output\n",
    "\n",
    "  Parameters\n",
    "  file_data = data extracted from figma\n",
    "  component_types = list of component types to extract\n",
    "  \"\"\"\n",
    "  for comp_type in component_types:\n",
    "    #get samples\n",
    "    samples = [d for d in file_data if d[\"variant_properties\"][\"component_name\"].lower() == comp_type][:2]\n",
    "    for sample in samples:\n",
    "      print(json.dumps(sample, indent=4))\n"
   ]
  },
  {
   "cell_type": "code",
   "execution_count": null,
   "metadata": {
    "id": "D_fd-epr97jO"
   },
   "outputs": [],
   "source": [
    "def process_data(file_data):\n",
    "  \"\"\"\n",
    "  A method to process the data for all componenets\n",
    "\n",
    "  Parameters\n",
    "  file_data = data extracted from figma\n",
    "  \"\"\"\n",
    "  #list of components\n",
    "  component_types = ['button', 'input-field', 'menu', 'list-item', 'label', 'icon-button'  ]\n",
    "  component_types = [ctype.replace(\" \", \"\").lower() for ctype in component_types]\n",
    "  return output_data(file_data, component_types)"
   ]
  },
  {
   "cell_type": "code",
   "execution_count": null,
   "metadata": {
    "id": "g_1Ybw5Q3Dyk"
   },
   "outputs": [],
   "source": [
    "def save_data(data, file_path):\n",
    "  \"\"\"\n",
    "  A method to save the data\n",
    "\n",
    "  Parameters\n",
    "  data = data to save\n",
    "  file_path = path to save the data\n",
    "  \"\"\"\n",
    "  with open(file_path, 'w') as f:\n",
    "    for entry in data:\n",
    "      compact_json = json.dumps(entry, separators=(',', ':'))\n",
    "      f.write(compact_json + '\\n')\n"
   ]
  },
  {
   "cell_type": "code",
   "execution_count": null,
   "metadata": {
    "id": "Af2MwRUH3MvO"
   },
   "outputs": [],
   "source": [
    "#path\n",
    "data_path = '/content/drive/My Drive/Implementation/Final Thesis/FYP/Data/nested_dataset.jsonl'"
   ]
  },
  {
   "cell_type": "code",
   "execution_count": null,
   "metadata": {
    "id": "m3EM9cLa3HTU"
   },
   "outputs": [],
   "source": [
    "processed_data = process_data(figma_data)"
   ]
  },
  {
   "cell_type": "code",
   "execution_count": null,
   "metadata": {
    "id": "ROchQxkY3Y78"
   },
   "outputs": [],
   "source": [
    "save_data(processed_data, data_path)"
   ]
  },
  {
   "cell_type": "markdown",
   "metadata": {
    "id": "kfgZ7zgpuj3H"
   },
   "source": [
    "## Complex extraction"
   ]
  },
  {
   "cell_type": "code",
   "execution_count": null,
   "metadata": {
    "id": "vKLI3SygzY1-"
   },
   "outputs": [],
   "source": [
    "def extract_properties(node):\n",
    "  \"\"\"\n",
    "  A method to extract the properties of the component variants\n",
    "\n",
    "  Parameters\n",
    "  node = node to extract the properties from\n",
    "  \"\"\"\n",
    "  properties = {\n",
    "    # 'id': node.get('id', ''),\n",
    "    'name': node.get('name', ''),\n",
    "    'type': node.get('type', ''),\n",
    "    'width': node.get('absoluteBoundingBox', {}).get('width', 0),\n",
    "    'height': node.get('absoluteBoundingBox', {}).get('height', 0),\n",
    "    'fills': [{'color': fill.get('color', {})} for fill in node.get('fills', []) if fill.get('type') == 'SOLID'],\n",
    "    'strokes': [{'color': stroke.get('color', {}), 'weight': node.get('strokeWeight', 0)} for stroke in node.get('strokes', []) if stroke.get('type') == 'SOLID'],\n",
    "    'effects': node.get('effects', []),\n",
    "  }\n",
    "\n",
    "\n",
    "    #autolayout details\n",
    "  if 'layoutMode' in node:\n",
    "    properties['layout'] = {\n",
    "      'mode': node.get('layoutMode', ''),\n",
    "      'alignment': {\n",
    "        'primaryAxis': node.get('primaryAxisAlignItems', ''),\n",
    "        'counterAxis': node.get('counterAxisAlignItems', '')\n",
    "      },\n",
    "      'sizing': {\n",
    "        'primaryAxis': node.get('primaryAxisSizingMode', ''),\n",
    "        'counterAxis': node.get('counterAxisSizingMode', '')\n",
    "      },\n",
    "      'padding': {\n",
    "        'left': node.get('paddingLeft', 0),\n",
    "        'right': node.get('paddingRight', 0),\n",
    "        'top': node.get('paddingTop', 0),\n",
    "        'bottom': node.get('paddingBottom', 0)\n",
    "      },\n",
    "      'itemSpacing': node.get('itemSpacing', 0)\n",
    "    }\n",
    "\n",
    "  # only if type is text then get font details if not then dont return\n",
    "  # if node['type'] == 'TEXT':\n",
    "    # text_style = node.get('style', {})\n",
    "    # if 'fontFamily' in text_style:\n",
    "    #   properties['fontFamily'] = text_style['fontFamily']\n",
    "    # if 'fontWeight' in text_style:\n",
    "    #   properties['fontWeight'] = text_style['fontWeight']\n",
    "    # if 'fontSize' in text_style:\n",
    "    #   properties['fontSize'] = text_style['fontSize']\n",
    "    # if 'characters' in node:\n",
    "    #   properties['characters'] = node['characters']\n",
    "    # if 'fills' in node:\n",
    "    #   text_fills = node['fills']\n",
    "    #   for fill in text_fills:\n",
    "    #     if fill['type'] == 'SOLID':\n",
    "    #       color = fill['color']\n",
    "    #       rgba = f\"rgba({int(color['r'] * 255)}, {int(color['g'] * 255)}, {int(color['b'] * 255)}, {color['a']})\"\n",
    "    #       properties['textColor'] = rgba\n",
    "\n",
    "  #text properties\n",
    "  if node['type'] == 'TEXT':\n",
    "    text_style = node.get('style', {})\n",
    "    properties.update({\n",
    "      'fontFamily': text_style.get('fontFamily', ''),\n",
    "      'fontWeight': text_style.get('fontWeight', ''),\n",
    "      'fontSize': text_style.get('fontSize', ''),\n",
    "      'characters': node.get('characters', ''),\n",
    "      'textColor': next(\n",
    "          (fill.get('color', {}) for fill in node.get('fills', []) if fill.get('type') == 'SOLID'), {}\n",
    "      )\n",
    "    })\n",
    "\n",
    "  #icon properties\n",
    "  if node['type'] == 'VECTOR':\n",
    "    properties.update({\n",
    "      'iconWidth': node.get('absoluteBoundingBox', {}).get('width', 0),\n",
    "      'iconHeight': node.get('absoluteBoundingBox', {}).get('height', 0),\n",
    "      'iconColor': next(\n",
    "        (fill.get('color', {}) for fill in node.get('fills', []) if fill.get('type') == 'SOLID'), {}\n",
    "      ),\n",
    "    })\n",
    "\n",
    "  #populate the children\n",
    "  if 'children' in node:\n",
    "    properties['children'] = [extract_properties(child) for child in node['children']]\n",
    "\n",
    "  return properties"
   ]
  },
  {
   "cell_type": "code",
   "execution_count": null,
   "metadata": {
    "id": "bp_tuPhTz27o"
   },
   "outputs": [],
   "source": [
    "def process_variants(node, style, component_name, subtype):\n",
    "  \"\"\"\n",
    "  A method to process the variants and get properties\n",
    "\n",
    "  Parameters\n",
    "  node = node to process the variants from\n",
    "  style = style of the component\n",
    "  component_name = name of the component\n",
    "  subtype = subtype of the component\n",
    "  \"\"\"\n",
    "  variants = []\n",
    "  #choose only component sets\n",
    "  if node['type'] == 'COMPONENT_SET' or node['type'] == 'COMPONENT':\n",
    "    variant_nodes = node['children'] if node['type'] == 'COMPONENT_SET' else [node]\n",
    "    for child in variant_nodes:\n",
    "      variant_details = extract_variant_name(child['name'])\n",
    "      variant_properties = extract_properties(child)\n",
    "      # #CHECKING FOR ICONS\n",
    "      # for key, value in variant_details.items():\n",
    "      #   if key.lower() == 'icon' and value[0].lower() == 'true':\n",
    "      #     variant_properties['hasIcon'] = True\n",
    "      #   if key.lower() == 'type' and value[0].lower() == 'icon':\n",
    "      #     variant_properties['hasIcon'] = True\n",
    "      #order of extraction\n",
    "      output_variant_properties = {\n",
    "        \"style\": style,\n",
    "        \"component_name\": component_name,\n",
    "        \"subtype\": subtype,\n",
    "        \"variant_details\": variant_details,\n",
    "        **variant_properties\n",
    "      }\n",
    "      variants.append({\"variant_properties\": output_variant_properties})\n",
    "  return variants"
   ]
  },
  {
   "cell_type": "code",
   "execution_count": null,
   "metadata": {
    "id": "e7QXfQWUz904"
   },
   "outputs": [],
   "source": [
    "def output_data(file_data, component_types):\n",
    "  \"\"\"\n",
    "  A method to output the data\n",
    "\n",
    "  Parameters\n",
    "  file_data = data extracted from figma\n",
    "  component_types = list of component types to extract\n",
    "  \"\"\"\n",
    "  organized_data = []\n",
    "  #canvas\n",
    "  for canvas in file_data.get(\"document\", {}).get(\"children\", []):\n",
    "    for node in canvas.get(\"children\", []):\n",
    "      #select component set data\n",
    "      if node[\"type\"] in [\"COMPONENT_SET\", \"COMPONENT\"]:\n",
    "        #extract component data\n",
    "        style, component_name, subtype = extract_componentset_name(node[\"name\"])\n",
    "        if component_name.lower() in component_types:\n",
    "          #process variants\n",
    "          variants = process_variants(node, style, component_name, subtype)\n",
    "          organized_data.extend(variants)\n",
    "  return organized_data"
   ]
  },
  {
   "cell_type": "code",
   "execution_count": null,
   "metadata": {
    "id": "GcbUUX-c0Bg7"
   },
   "outputs": [],
   "source": [
    "def print_output(file_data, component_types):\n",
    "  \"\"\"\n",
    "  A method to print the output\n",
    "\n",
    "  Parameters\n",
    "  file_data = data extracted from figma\n",
    "  component_types = list of component types to extract\n",
    "  \"\"\"\n",
    "  for comp_type in component_types:\n",
    "    samples = [d for d in file_data if d[\"variant_properties\"][\"component_name\"].lower() == comp_type][:2]\n",
    "    for sample in samples:\n",
    "      print(json.dumps(sample, indent=4))"
   ]
  },
  {
   "cell_type": "code",
   "execution_count": null,
   "metadata": {
    "id": "5BbGbaie0ENH"
   },
   "outputs": [],
   "source": [
    "def main_output(figma_data):\n",
    "  \"\"\"\n",
    "  A method to run the main method only for button componenents\n",
    "  \"\"\"\n",
    "  component_types = ['button']\n",
    "  organized_data = output_data(figma_data, component_types)\n",
    "  print_output(organized_data, component_types)"
   ]
  },
  {
   "cell_type": "code",
   "execution_count": null,
   "metadata": {
    "colab": {
     "base_uri": "https://localhost:8080/"
    },
    "collapsed": true,
    "executionInfo": {
     "elapsed": 1685,
     "status": "ok",
     "timestamp": 1718473447644,
     "user": {
      "displayName": "K.Ishani",
      "userId": "03791568905300336534"
     },
     "user_tz": -330
    },
    "id": "lKYq81a20HhA",
    "outputId": "a11b7187-07c4-479e-bff2-f01e73d10d40"
   },
   "outputs": [
    {
     "name": "stdout",
     "output_type": "stream",
     "text": [
      "{\n",
      "    \"variant_properties\": {\n",
      "        \"style\": \"Professional\",\n",
      "        \"component_name\": \"Button\",\n",
      "        \"subtype\": \"Default\",\n",
      "        \"variant_details\": {\n",
      "            \"State\": [\n",
      "                \"Default\"\n",
      "            ],\n",
      "            \"Size\": [\n",
      "                \"Small\"\n",
      "            ]\n",
      "        },\n",
      "        \"name\": \"State=Default, Size=Small\",\n",
      "        \"type\": \"COMPONENT\",\n",
      "        \"width\": 105.0,\n",
      "        \"height\": 36.0,\n",
      "        \"fills\": [\n",
      "            {\n",
      "                \"color\": {\n",
      "                    \"r\": 1.0,\n",
      "                    \"g\": 1.0,\n",
      "                    \"b\": 1.0,\n",
      "                    \"a\": 1.0\n",
      "                }\n",
      "            }\n",
      "        ],\n",
      "        \"strokes\": [],\n",
      "        \"effects\": [],\n",
      "        \"layout\": {\n",
      "            \"mode\": \"HORIZONTAL\",\n",
      "            \"alignment\": {\n",
      "                \"primaryAxis\": \"\",\n",
      "                \"counterAxis\": \"\"\n",
      "            },\n",
      "            \"sizing\": {\n",
      "                \"primaryAxis\": \"\",\n",
      "                \"counterAxis\": \"\"\n",
      "            },\n",
      "            \"padding\": {\n",
      "                \"left\": 0,\n",
      "                \"right\": 0,\n",
      "                \"top\": 0,\n",
      "                \"bottom\": 0\n",
      "            },\n",
      "            \"itemSpacing\": 0\n",
      "        },\n",
      "        \"children\": [\n",
      "            {\n",
      "                \"name\": \"_Button base\",\n",
      "                \"type\": \"FRAME\",\n",
      "                \"width\": 105.0,\n",
      "                \"height\": 36.0,\n",
      "                \"fills\": [\n",
      "                    {\n",
      "                        \"color\": {\n",
      "                            \"r\": 0.49640899896621704,\n",
      "                            \"g\": 0.33841174840927124,\n",
      "                            \"b\": 0.849823534488678,\n",
      "                            \"a\": 1.0\n",
      "                        }\n",
      "                    }\n",
      "                ],\n",
      "                \"strokes\": [\n",
      "                    {\n",
      "                        \"color\": {\n",
      "                            \"r\": 0.49640899896621704,\n",
      "                            \"g\": 0.33841174840927124,\n",
      "                            \"b\": 0.849823534488678,\n",
      "                            \"a\": 1.0\n",
      "                        },\n",
      "                        \"weight\": 1.0\n",
      "                    }\n",
      "                ],\n",
      "                \"effects\": [\n",
      "                    {\n",
      "                        \"type\": \"DROP_SHADOW\",\n",
      "                        \"visible\": true,\n",
      "                        \"color\": {\n",
      "                            \"r\": 0.062745101749897,\n",
      "                            \"g\": 0.0941176488995552,\n",
      "                            \"b\": 0.1568627506494522,\n",
      "                            \"a\": 0.05000000074505806\n",
      "                        },\n",
      "                        \"blendMode\": \"NORMAL\",\n",
      "                        \"offset\": {\n",
      "                            \"x\": 0.0,\n",
      "                            \"y\": 1.0\n",
      "                        },\n",
      "                        \"radius\": 2.0,\n",
      "                        \"showShadowBehindNode\": true\n",
      "                    }\n",
      "                ],\n",
      "                \"layout\": {\n",
      "                    \"mode\": \"HORIZONTAL\",\n",
      "                    \"alignment\": {\n",
      "                        \"primaryAxis\": \"CENTER\",\n",
      "                        \"counterAxis\": \"CENTER\"\n",
      "                    },\n",
      "                    \"sizing\": {\n",
      "                        \"primaryAxis\": \"\",\n",
      "                        \"counterAxis\": \"\"\n",
      "                    },\n",
      "                    \"padding\": {\n",
      "                        \"left\": 14.0,\n",
      "                        \"right\": 14.0,\n",
      "                        \"top\": 8.0,\n",
      "                        \"bottom\": 8.0\n",
      "                    },\n",
      "                    \"itemSpacing\": 8.0\n",
      "                },\n",
      "                \"children\": [\n",
      "                    {\n",
      "                        \"name\": \"Text\",\n",
      "                        \"type\": \"TEXT\",\n",
      "                        \"width\": 77.0,\n",
      "                        \"height\": 20.0,\n",
      "                        \"fills\": [\n",
      "                            {\n",
      "                                \"color\": {\n",
      "                                    \"r\": 1.0,\n",
      "                                    \"g\": 1.0,\n",
      "                                    \"b\": 1.0,\n",
      "                                    \"a\": 1.0\n",
      "                                }\n",
      "                            }\n",
      "                        ],\n",
      "                        \"strokes\": [],\n",
      "                        \"effects\": [],\n",
      "                        \"fontFamily\": \"Inter\",\n",
      "                        \"fontWeight\": 500,\n",
      "                        \"fontSize\": 14.0,\n",
      "                        \"characters\": \"Button CTA\",\n",
      "                        \"textColor\": {\n",
      "                            \"r\": 1.0,\n",
      "                            \"g\": 1.0,\n",
      "                            \"b\": 1.0,\n",
      "                            \"a\": 1.0\n",
      "                        }\n",
      "                    }\n",
      "                ]\n",
      "            }\n",
      "        ]\n",
      "    }\n",
      "}\n",
      "{\n",
      "    \"variant_properties\": {\n",
      "        \"style\": \"Professional\",\n",
      "        \"component_name\": \"Button\",\n",
      "        \"subtype\": \"Default\",\n",
      "        \"variant_details\": {\n",
      "            \"State\": [\n",
      "                \"Default\"\n",
      "            ],\n",
      "            \"Size\": [\n",
      "                \"Large\"\n",
      "            ]\n",
      "        },\n",
      "        \"name\": \"State=Default, Size=Large\",\n",
      "        \"type\": \"COMPONENT\",\n",
      "        \"width\": 117.0,\n",
      "        \"height\": 40.0,\n",
      "        \"fills\": [\n",
      "            {\n",
      "                \"color\": {\n",
      "                    \"r\": 1.0,\n",
      "                    \"g\": 1.0,\n",
      "                    \"b\": 1.0,\n",
      "                    \"a\": 1.0\n",
      "                }\n",
      "            }\n",
      "        ],\n",
      "        \"strokes\": [],\n",
      "        \"effects\": [],\n",
      "        \"layout\": {\n",
      "            \"mode\": \"HORIZONTAL\",\n",
      "            \"alignment\": {\n",
      "                \"primaryAxis\": \"\",\n",
      "                \"counterAxis\": \"\"\n",
      "            },\n",
      "            \"sizing\": {\n",
      "                \"primaryAxis\": \"\",\n",
      "                \"counterAxis\": \"\"\n",
      "            },\n",
      "            \"padding\": {\n",
      "                \"left\": 0,\n",
      "                \"right\": 0,\n",
      "                \"top\": 0,\n",
      "                \"bottom\": 0\n",
      "            },\n",
      "            \"itemSpacing\": 0\n",
      "        },\n",
      "        \"children\": [\n",
      "            {\n",
      "                \"name\": \"_Button base\",\n",
      "                \"type\": \"FRAME\",\n",
      "                \"width\": 117.0,\n",
      "                \"height\": 40.0,\n",
      "                \"fills\": [\n",
      "                    {\n",
      "                        \"color\": {\n",
      "                            \"r\": 0.49640899896621704,\n",
      "                            \"g\": 0.33841174840927124,\n",
      "                            \"b\": 0.849823534488678,\n",
      "                            \"a\": 1.0\n",
      "                        }\n",
      "                    }\n",
      "                ],\n",
      "                \"strokes\": [\n",
      "                    {\n",
      "                        \"color\": {\n",
      "                            \"r\": 0.49640899896621704,\n",
      "                            \"g\": 0.33841174840927124,\n",
      "                            \"b\": 0.849823534488678,\n",
      "                            \"a\": 1.0\n",
      "                        },\n",
      "                        \"weight\": 1.0\n",
      "                    }\n",
      "                ],\n",
      "                \"effects\": [\n",
      "                    {\n",
      "                        \"type\": \"DROP_SHADOW\",\n",
      "                        \"visible\": true,\n",
      "                        \"color\": {\n",
      "                            \"r\": 0.062745101749897,\n",
      "                            \"g\": 0.0941176488995552,\n",
      "                            \"b\": 0.1568627506494522,\n",
      "                            \"a\": 0.05000000074505806\n",
      "                        },\n",
      "                        \"blendMode\": \"NORMAL\",\n",
      "                        \"offset\": {\n",
      "                            \"x\": 0.0,\n",
      "                            \"y\": 1.0\n",
      "                        },\n",
      "                        \"radius\": 2.0,\n",
      "                        \"showShadowBehindNode\": true\n",
      "                    }\n",
      "                ],\n",
      "                \"layout\": {\n",
      "                    \"mode\": \"HORIZONTAL\",\n",
      "                    \"alignment\": {\n",
      "                        \"primaryAxis\": \"CENTER\",\n",
      "                        \"counterAxis\": \"CENTER\"\n",
      "                    },\n",
      "                    \"sizing\": {\n",
      "                        \"primaryAxis\": \"\",\n",
      "                        \"counterAxis\": \"\"\n",
      "                    },\n",
      "                    \"padding\": {\n",
      "                        \"left\": 20.0,\n",
      "                        \"right\": 20.0,\n",
      "                        \"top\": 10.0,\n",
      "                        \"bottom\": 10.0\n",
      "                    },\n",
      "                    \"itemSpacing\": 8.0\n",
      "                },\n",
      "                \"children\": [\n",
      "                    {\n",
      "                        \"name\": \"Text\",\n",
      "                        \"type\": \"TEXT\",\n",
      "                        \"width\": 77.0,\n",
      "                        \"height\": 20.0,\n",
      "                        \"fills\": [\n",
      "                            {\n",
      "                                \"color\": {\n",
      "                                    \"r\": 1.0,\n",
      "                                    \"g\": 1.0,\n",
      "                                    \"b\": 1.0,\n",
      "                                    \"a\": 1.0\n",
      "                                }\n",
      "                            }\n",
      "                        ],\n",
      "                        \"strokes\": [],\n",
      "                        \"effects\": [],\n",
      "                        \"fontFamily\": \"Inter\",\n",
      "                        \"fontWeight\": 500,\n",
      "                        \"fontSize\": 14.0,\n",
      "                        \"characters\": \"Button CTA\",\n",
      "                        \"textColor\": {\n",
      "                            \"r\": 1.0,\n",
      "                            \"g\": 1.0,\n",
      "                            \"b\": 1.0,\n",
      "                            \"a\": 1.0\n",
      "                        }\n",
      "                    }\n",
      "                ]\n",
      "            }\n",
      "        ]\n",
      "    }\n",
      "}\n"
     ]
    }
   ],
   "source": [
    "main_output(figma_data)"
   ]
  },
  {
   "cell_type": "code",
   "execution_count": null,
   "metadata": {
    "id": "VcERAtuIVQR-"
   },
   "outputs": [],
   "source": [
    "def process_data(file_data):\n",
    "  \"\"\"\n",
    "  A method to process the data for all componenets\n",
    "\n",
    "  Parameters\n",
    "  file_data = data extracted from figma\n",
    "  \"\"\"\n",
    "  #all components\n",
    "  component_types = ['button', 'input-field', 'menu', 'list-item', 'label', 'icon-button'  ]\n",
    "\n",
    "  component_types = [ctype.replace(\" \", \"\").lower() for ctype in component_types]\n",
    "  return output_data(file_data, component_types)"
   ]
  },
  {
   "cell_type": "code",
   "execution_count": null,
   "metadata": {
    "id": "zoTWEXVMM7Rd"
   },
   "outputs": [],
   "source": [
    "def save_data(data, file_path):\n",
    "  \"\"\"\n",
    "  A method to save the data\n",
    "\n",
    "  Parameters\n",
    "  data = data to save\n",
    "  file_path = path to save the data\n",
    "  \"\"\"\n",
    "  with open(file_path, 'w') as f:\n",
    "    for entry in data:\n",
    "      compact_json = json.dumps(entry, separators=(',', ':'))\n",
    "      f.write(compact_json + '\\n')\n"
   ]
  },
  {
   "cell_type": "code",
   "execution_count": null,
   "metadata": {
    "id": "4B4RJCthSwB6"
   },
   "outputs": [],
   "source": [
    "data_path = '/content/drive/My Drive/Implementation/Final Thesis/FYP/full_components.jsonl'"
   ]
  },
  {
   "cell_type": "code",
   "execution_count": null,
   "metadata": {
    "id": "OCyS9Ep5NSoo"
   },
   "outputs": [],
   "source": [
    "processed_data = process_data(figma_data)"
   ]
  },
  {
   "cell_type": "code",
   "execution_count": null,
   "metadata": {
    "id": "miaATv8fQXna"
   },
   "outputs": [],
   "source": [
    "save_data(processed_data, data_path)"
   ]
  },
  {
   "cell_type": "code",
   "execution_count": null,
   "metadata": {
    "id": "QuDgJu1pbCMW"
   },
   "outputs": [],
   "source": [
    "# def load_from_jsonl(file_path):\n",
    "#     data = []\n",
    "#     with open(file_path, 'r') as f:\n",
    "#         for line in f:\n",
    "#             try:\n",
    "\n",
    "#                 data.append(json.loads(line))\n",
    "#             except json.JSONDecodeError as e:\n",
    "#                 print(f\"Error decoding JSON: {e} in line: {line}\")\n",
    "#     return data\n"
   ]
  },
  {
   "cell_type": "code",
   "execution_count": null,
   "metadata": {
    "id": "yvxOcxdcpa0u"
   },
   "outputs": [],
   "source": [
    "# loaded_data = load_from_jsonl(data_path)"
   ]
  },
  {
   "cell_type": "code",
   "execution_count": null,
   "metadata": {
    "id": "Pc7HmUiH-4CZ"
   },
   "outputs": [],
   "source": [
    "# loaded_data"
   ]
  }
 ],
 "metadata": {
  "colab": {
   "collapsed_sections": [
    "x_3teQnCXfAZ",
    "gSom75vcyFpl",
    "kfgZ7zgpuj3H"
   ],
   "provenance": []
  },
  "kernelspec": {
   "display_name": "Python 3",
   "name": "python3"
  },
  "language_info": {
   "name": "python"
  }
 },
 "nbformat": 4,
 "nbformat_minor": 0
}
